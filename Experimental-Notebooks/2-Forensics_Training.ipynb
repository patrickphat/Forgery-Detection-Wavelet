{
  "nbformat": 4,
  "nbformat_minor": 0,
  "metadata": {
    "colab": {
      "name": "Forensics - Training",
      "provenance": [],
      "collapsed_sections": [],
      "toc_visible": true,
      "machine_shape": "hm"
    },
    "kernelspec": {
      "name": "python3",
      "display_name": "Python 3"
    },
    "accelerator": "GPU",
    "widgets": {
      "application/vnd.jupyter.widget-state+json": {
        "94dbea9bf1424b49a43742b4d515ba65": {
          "model_module": "@jupyter-widgets/controls",
          "model_name": "HBoxModel",
          "state": {
            "_view_name": "HBoxView",
            "_dom_classes": [],
            "_model_name": "HBoxModel",
            "_view_module": "@jupyter-widgets/controls",
            "_model_module_version": "1.5.0",
            "_view_count": null,
            "_view_module_version": "1.5.0",
            "box_style": "",
            "layout": "IPY_MODEL_7df868952b5a4a208a8d730b20663c3d",
            "_model_module": "@jupyter-widgets/controls",
            "children": [
              "IPY_MODEL_762b3862b9b64334805fe0d74d972537",
              "IPY_MODEL_01157ebd0f684fa885cc2dc545cdea86"
            ]
          }
        },
        "7df868952b5a4a208a8d730b20663c3d": {
          "model_module": "@jupyter-widgets/base",
          "model_name": "LayoutModel",
          "state": {
            "_view_name": "LayoutView",
            "grid_template_rows": null,
            "right": null,
            "justify_content": null,
            "_view_module": "@jupyter-widgets/base",
            "overflow": null,
            "_model_module_version": "1.2.0",
            "_view_count": null,
            "flex_flow": null,
            "width": null,
            "min_width": null,
            "border": null,
            "align_items": null,
            "bottom": null,
            "_model_module": "@jupyter-widgets/base",
            "top": null,
            "grid_column": null,
            "overflow_y": null,
            "overflow_x": null,
            "grid_auto_flow": null,
            "grid_area": null,
            "grid_template_columns": null,
            "flex": null,
            "_model_name": "LayoutModel",
            "justify_items": null,
            "grid_row": null,
            "max_height": null,
            "align_content": null,
            "visibility": null,
            "align_self": null,
            "height": null,
            "min_height": null,
            "padding": null,
            "grid_auto_rows": null,
            "grid_gap": null,
            "max_width": null,
            "order": null,
            "_view_module_version": "1.2.0",
            "grid_template_areas": null,
            "object_position": null,
            "object_fit": null,
            "grid_auto_columns": null,
            "margin": null,
            "display": null,
            "left": null
          }
        },
        "762b3862b9b64334805fe0d74d972537": {
          "model_module": "@jupyter-widgets/controls",
          "model_name": "IntProgressModel",
          "state": {
            "_view_name": "ProgressView",
            "style": "IPY_MODEL_02d739ab5f9e4b70bf6032a310bf5a3a",
            "_dom_classes": [],
            "description": "",
            "_model_name": "IntProgressModel",
            "bar_style": "success",
            "max": 15934,
            "_view_module": "@jupyter-widgets/controls",
            "_model_module_version": "1.5.0",
            "value": 15934,
            "_view_count": null,
            "_view_module_version": "1.5.0",
            "orientation": "horizontal",
            "min": 0,
            "description_tooltip": null,
            "_model_module": "@jupyter-widgets/controls",
            "layout": "IPY_MODEL_342fc6c3f4c147909468d87a6a14c37a"
          }
        },
        "01157ebd0f684fa885cc2dc545cdea86": {
          "model_module": "@jupyter-widgets/controls",
          "model_name": "HTMLModel",
          "state": {
            "_view_name": "HTMLView",
            "style": "IPY_MODEL_b856faba5702414b83e19a5da9c973dc",
            "_dom_classes": [],
            "description": "",
            "_model_name": "HTMLModel",
            "placeholder": "​",
            "_view_module": "@jupyter-widgets/controls",
            "_model_module_version": "1.5.0",
            "value": "100% 15934/15934 [02:25&lt;00:00, 109.85it/s]",
            "_view_count": null,
            "_view_module_version": "1.5.0",
            "description_tooltip": null,
            "_model_module": "@jupyter-widgets/controls",
            "layout": "IPY_MODEL_79df79965fb7434c8e36cf757c983a22"
          }
        },
        "02d739ab5f9e4b70bf6032a310bf5a3a": {
          "model_module": "@jupyter-widgets/controls",
          "model_name": "ProgressStyleModel",
          "state": {
            "_view_name": "StyleView",
            "_model_name": "ProgressStyleModel",
            "description_width": "",
            "_view_module": "@jupyter-widgets/base",
            "_model_module_version": "1.5.0",
            "_view_count": null,
            "_view_module_version": "1.2.0",
            "bar_color": null,
            "_model_module": "@jupyter-widgets/controls"
          }
        },
        "342fc6c3f4c147909468d87a6a14c37a": {
          "model_module": "@jupyter-widgets/base",
          "model_name": "LayoutModel",
          "state": {
            "_view_name": "LayoutView",
            "grid_template_rows": null,
            "right": null,
            "justify_content": null,
            "_view_module": "@jupyter-widgets/base",
            "overflow": null,
            "_model_module_version": "1.2.0",
            "_view_count": null,
            "flex_flow": null,
            "width": null,
            "min_width": null,
            "border": null,
            "align_items": null,
            "bottom": null,
            "_model_module": "@jupyter-widgets/base",
            "top": null,
            "grid_column": null,
            "overflow_y": null,
            "overflow_x": null,
            "grid_auto_flow": null,
            "grid_area": null,
            "grid_template_columns": null,
            "flex": null,
            "_model_name": "LayoutModel",
            "justify_items": null,
            "grid_row": null,
            "max_height": null,
            "align_content": null,
            "visibility": null,
            "align_self": null,
            "height": null,
            "min_height": null,
            "padding": null,
            "grid_auto_rows": null,
            "grid_gap": null,
            "max_width": null,
            "order": null,
            "_view_module_version": "1.2.0",
            "grid_template_areas": null,
            "object_position": null,
            "object_fit": null,
            "grid_auto_columns": null,
            "margin": null,
            "display": null,
            "left": null
          }
        },
        "b856faba5702414b83e19a5da9c973dc": {
          "model_module": "@jupyter-widgets/controls",
          "model_name": "DescriptionStyleModel",
          "state": {
            "_view_name": "StyleView",
            "_model_name": "DescriptionStyleModel",
            "description_width": "",
            "_view_module": "@jupyter-widgets/base",
            "_model_module_version": "1.5.0",
            "_view_count": null,
            "_view_module_version": "1.2.0",
            "_model_module": "@jupyter-widgets/controls"
          }
        },
        "79df79965fb7434c8e36cf757c983a22": {
          "model_module": "@jupyter-widgets/base",
          "model_name": "LayoutModel",
          "state": {
            "_view_name": "LayoutView",
            "grid_template_rows": null,
            "right": null,
            "justify_content": null,
            "_view_module": "@jupyter-widgets/base",
            "overflow": null,
            "_model_module_version": "1.2.0",
            "_view_count": null,
            "flex_flow": null,
            "width": null,
            "min_width": null,
            "border": null,
            "align_items": null,
            "bottom": null,
            "_model_module": "@jupyter-widgets/base",
            "top": null,
            "grid_column": null,
            "overflow_y": null,
            "overflow_x": null,
            "grid_auto_flow": null,
            "grid_area": null,
            "grid_template_columns": null,
            "flex": null,
            "_model_name": "LayoutModel",
            "justify_items": null,
            "grid_row": null,
            "max_height": null,
            "align_content": null,
            "visibility": null,
            "align_self": null,
            "height": null,
            "min_height": null,
            "padding": null,
            "grid_auto_rows": null,
            "grid_gap": null,
            "max_width": null,
            "order": null,
            "_view_module_version": "1.2.0",
            "grid_template_areas": null,
            "object_position": null,
            "object_fit": null,
            "grid_auto_columns": null,
            "margin": null,
            "display": null,
            "left": null
          }
        }
      }
    }
  },
  "cells": [
    {
      "cell_type": "code",
      "metadata": {
        "id": "491uIee2vX1A",
        "colab_type": "code",
        "outputId": "3b65b79b-a26c-4a69-f23d-6ab824b257a3",
        "colab": {
          "base_uri": "https://localhost:8080/",
          "height": 1000
        }
      },
      "source": [
        "!pip install tensorflow-gpu"
      ],
      "execution_count": 0,
      "outputs": [
        {
          "output_type": "stream",
          "text": [
            "Collecting tensorflow-gpu\n",
            "\u001b[?25l  Downloading https://files.pythonhosted.org/packages/0a/93/c7bca39b23aae45cd2e85ad3871c81eccc63b9c5276e926511e2e5b0879d/tensorflow_gpu-2.1.0-cp36-cp36m-manylinux2010_x86_64.whl (421.8MB)\n",
            "\u001b[K     |████████████████████████████████| 421.8MB 35kB/s \n",
            "\u001b[?25hRequirement already satisfied: absl-py>=0.7.0 in /usr/local/lib/python3.6/dist-packages (from tensorflow-gpu) (0.9.0)\n",
            "Requirement already satisfied: google-pasta>=0.1.6 in /usr/local/lib/python3.6/dist-packages (from tensorflow-gpu) (0.1.8)\n",
            "Requirement already satisfied: gast==0.2.2 in /usr/local/lib/python3.6/dist-packages (from tensorflow-gpu) (0.2.2)\n",
            "Requirement already satisfied: keras-preprocessing>=1.1.0 in /usr/local/lib/python3.6/dist-packages (from tensorflow-gpu) (1.1.0)\n",
            "Requirement already satisfied: astor>=0.6.0 in /usr/local/lib/python3.6/dist-packages (from tensorflow-gpu) (0.8.1)\n",
            "Collecting tensorflow-estimator<2.2.0,>=2.1.0rc0\n",
            "\u001b[?25l  Downloading https://files.pythonhosted.org/packages/18/90/b77c328a1304437ab1310b463e533fa7689f4bfc41549593056d812fab8e/tensorflow_estimator-2.1.0-py2.py3-none-any.whl (448kB)\n",
            "\u001b[K     |████████████████████████████████| 450kB 45.9MB/s \n",
            "\u001b[?25hRequirement already satisfied: wrapt>=1.11.1 in /usr/local/lib/python3.6/dist-packages (from tensorflow-gpu) (1.11.2)\n",
            "Requirement already satisfied: opt-einsum>=2.3.2 in /usr/local/lib/python3.6/dist-packages (from tensorflow-gpu) (3.1.0)\n",
            "Collecting tensorboard<2.2.0,>=2.1.0\n",
            "\u001b[?25l  Downloading https://files.pythonhosted.org/packages/40/23/53ffe290341cd0855d595b0a2e7485932f473798af173bbe3a584b99bb06/tensorboard-2.1.0-py3-none-any.whl (3.8MB)\n",
            "\u001b[K     |████████████████████████████████| 3.8MB 44.0MB/s \n",
            "\u001b[?25hRequirement already satisfied: wheel>=0.26; python_version >= \"3\" in /usr/local/lib/python3.6/dist-packages (from tensorflow-gpu) (0.34.2)\n",
            "Requirement already satisfied: numpy<2.0,>=1.16.0 in /usr/local/lib/python3.6/dist-packages (from tensorflow-gpu) (1.17.5)\n",
            "Requirement already satisfied: six>=1.12.0 in /usr/local/lib/python3.6/dist-packages (from tensorflow-gpu) (1.12.0)\n",
            "Requirement already satisfied: grpcio>=1.8.6 in /usr/local/lib/python3.6/dist-packages (from tensorflow-gpu) (1.27.1)\n",
            "Requirement already satisfied: protobuf>=3.8.0 in /usr/local/lib/python3.6/dist-packages (from tensorflow-gpu) (3.10.0)\n",
            "Requirement already satisfied: scipy==1.4.1; python_version >= \"3\" in /usr/local/lib/python3.6/dist-packages (from tensorflow-gpu) (1.4.1)\n",
            "Requirement already satisfied: termcolor>=1.1.0 in /usr/local/lib/python3.6/dist-packages (from tensorflow-gpu) (1.1.0)\n",
            "Requirement already satisfied: keras-applications>=1.0.8 in /usr/local/lib/python3.6/dist-packages (from tensorflow-gpu) (1.0.8)\n",
            "Requirement already satisfied: markdown>=2.6.8 in /usr/local/lib/python3.6/dist-packages (from tensorboard<2.2.0,>=2.1.0->tensorflow-gpu) (3.2.1)\n",
            "Requirement already satisfied: werkzeug>=0.11.15 in /usr/local/lib/python3.6/dist-packages (from tensorboard<2.2.0,>=2.1.0->tensorflow-gpu) (1.0.0)\n",
            "Requirement already satisfied: requests<3,>=2.21.0 in /usr/local/lib/python3.6/dist-packages (from tensorboard<2.2.0,>=2.1.0->tensorflow-gpu) (2.21.0)\n",
            "Requirement already satisfied: google-auth<2,>=1.6.3 in /usr/local/lib/python3.6/dist-packages (from tensorboard<2.2.0,>=2.1.0->tensorflow-gpu) (1.7.2)\n",
            "Requirement already satisfied: setuptools>=41.0.0 in /usr/local/lib/python3.6/dist-packages (from tensorboard<2.2.0,>=2.1.0->tensorflow-gpu) (45.1.0)\n",
            "Requirement already satisfied: google-auth-oauthlib<0.5,>=0.4.1 in /usr/local/lib/python3.6/dist-packages (from tensorboard<2.2.0,>=2.1.0->tensorflow-gpu) (0.4.1)\n",
            "Requirement already satisfied: h5py in /usr/local/lib/python3.6/dist-packages (from keras-applications>=1.0.8->tensorflow-gpu) (2.8.0)\n",
            "Requirement already satisfied: urllib3<1.25,>=1.21.1 in /usr/local/lib/python3.6/dist-packages (from requests<3,>=2.21.0->tensorboard<2.2.0,>=2.1.0->tensorflow-gpu) (1.24.3)\n",
            "Requirement already satisfied: idna<2.9,>=2.5 in /usr/local/lib/python3.6/dist-packages (from requests<3,>=2.21.0->tensorboard<2.2.0,>=2.1.0->tensorflow-gpu) (2.8)\n",
            "Requirement already satisfied: certifi>=2017.4.17 in /usr/local/lib/python3.6/dist-packages (from requests<3,>=2.21.0->tensorboard<2.2.0,>=2.1.0->tensorflow-gpu) (2019.11.28)\n",
            "Requirement already satisfied: chardet<3.1.0,>=3.0.2 in /usr/local/lib/python3.6/dist-packages (from requests<3,>=2.21.0->tensorboard<2.2.0,>=2.1.0->tensorflow-gpu) (3.0.4)\n",
            "Requirement already satisfied: pyasn1-modules>=0.2.1 in /usr/local/lib/python3.6/dist-packages (from google-auth<2,>=1.6.3->tensorboard<2.2.0,>=2.1.0->tensorflow-gpu) (0.2.8)\n",
            "Requirement already satisfied: cachetools<3.2,>=2.0.0 in /usr/local/lib/python3.6/dist-packages (from google-auth<2,>=1.6.3->tensorboard<2.2.0,>=2.1.0->tensorflow-gpu) (3.1.1)\n",
            "Requirement already satisfied: rsa<4.1,>=3.1.4 in /usr/local/lib/python3.6/dist-packages (from google-auth<2,>=1.6.3->tensorboard<2.2.0,>=2.1.0->tensorflow-gpu) (4.0)\n",
            "Requirement already satisfied: requests-oauthlib>=0.7.0 in /usr/local/lib/python3.6/dist-packages (from google-auth-oauthlib<0.5,>=0.4.1->tensorboard<2.2.0,>=2.1.0->tensorflow-gpu) (1.3.0)\n",
            "Requirement already satisfied: pyasn1<0.5.0,>=0.4.6 in /usr/local/lib/python3.6/dist-packages (from pyasn1-modules>=0.2.1->google-auth<2,>=1.6.3->tensorboard<2.2.0,>=2.1.0->tensorflow-gpu) (0.4.8)\n",
            "Requirement already satisfied: oauthlib>=3.0.0 in /usr/local/lib/python3.6/dist-packages (from requests-oauthlib>=0.7.0->google-auth-oauthlib<0.5,>=0.4.1->tensorboard<2.2.0,>=2.1.0->tensorflow-gpu) (3.1.0)\n",
            "\u001b[31mERROR: tensorflow 1.15.0 has requirement tensorboard<1.16.0,>=1.15.0, but you'll have tensorboard 2.1.0 which is incompatible.\u001b[0m\n",
            "\u001b[31mERROR: tensorflow 1.15.0 has requirement tensorflow-estimator==1.15.1, but you'll have tensorflow-estimator 2.1.0 which is incompatible.\u001b[0m\n",
            "Installing collected packages: tensorflow-estimator, tensorboard, tensorflow-gpu\n",
            "  Found existing installation: tensorflow-estimator 1.15.1\n",
            "    Uninstalling tensorflow-estimator-1.15.1:\n",
            "      Successfully uninstalled tensorflow-estimator-1.15.1\n",
            "  Found existing installation: tensorboard 1.15.0\n",
            "    Uninstalling tensorboard-1.15.0:\n",
            "      Successfully uninstalled tensorboard-1.15.0\n",
            "Successfully installed tensorboard-2.1.0 tensorflow-estimator-2.1.0 tensorflow-gpu-2.1.0\n"
          ],
          "name": "stdout"
        },
        {
          "output_type": "display_data",
          "data": {
            "application/vnd.colab-display-data+json": {
              "pip_warning": {
                "packages": [
                  "tensorboard",
                  "tensorflow",
                  "tensorflow_core",
                  "tensorflow_estimator"
                ]
              }
            }
          },
          "metadata": {
            "tags": []
          }
        }
      ]
    },
    {
      "cell_type": "code",
      "metadata": {
        "id": "ttnO5pveivn9",
        "colab_type": "code",
        "outputId": "2a8e5145-ebd2-45ae-c090-1173541b9aec",
        "colab": {
          "base_uri": "https://localhost:8080/",
          "height": 35
        }
      },
      "source": [
        "import tensorflow\n",
        "tensorflow.__version__"
      ],
      "execution_count": 0,
      "outputs": [
        {
          "output_type": "execute_result",
          "data": {
            "text/plain": [
              "'2.1.0'"
            ]
          },
          "metadata": {
            "tags": []
          },
          "execution_count": 2
        }
      ]
    },
    {
      "cell_type": "markdown",
      "metadata": {
        "id": "JL_BqZwjs-bi",
        "colab_type": "text"
      },
      "source": [
        ""
      ]
    },
    {
      "cell_type": "code",
      "metadata": {
        "id": "u0f7wRs9NswZ",
        "colab_type": "code",
        "outputId": "b648d2e8-7488-4d76-e764-572736a83097",
        "colab": {
          "base_uri": "https://localhost:8080/",
          "height": 99
        }
      },
      "source": [
        "from PIL import Image\n",
        "import os\n",
        "from tqdm import tqdm_notebook\n",
        "import numpy as np\n",
        "from sklearn.feature_extraction.image import extract_patches_2d\n",
        "import matplotlib.pyplot as plt \n",
        "import cv2\n",
        "import pywt\n",
        "from tensorflow.keras import backend as K\n",
        "from sklearn.model_selection import train_test_split\n",
        "import pywt\n",
        "from sklearn.utils import shuffle\n",
        "from keras.preprocessing.image import ImageDataGenerator\n",
        "from tensorflow.keras.callbacks import ModelCheckpoint"
      ],
      "execution_count": 0,
      "outputs": [
        {
          "output_type": "display_data",
          "data": {
            "text/html": [
              "<p style=\"color: red;\">\n",
              "The default version of TensorFlow in Colab will soon switch to TensorFlow 2.x.<br>\n",
              "We recommend you <a href=\"https://www.tensorflow.org/guide/migrate\" target=\"_blank\">upgrade</a> now \n",
              "or ensure your notebook will continue to use TensorFlow 1.x via the <code>%tensorflow_version 1.x</code> magic:\n",
              "<a href=\"https://colab.research.google.com/notebooks/tensorflow_version.ipynb\" target=\"_blank\">more info</a>.</p>\n"
            ],
            "text/plain": [
              "<IPython.core.display.HTML object>"
            ]
          },
          "metadata": {
            "tags": []
          }
        },
        {
          "output_type": "stream",
          "text": [
            "Using TensorFlow backend.\n"
          ],
          "name": "stderr"
        }
      ]
    },
    {
      "cell_type": "code",
      "metadata": {
        "id": "DC258CykNX7O",
        "colab_type": "code",
        "colab": {}
      },
      "source": [
        "DATA_PATH = \"/content/drive/My Drive/Casia/Casia2/\"\n"
      ],
      "execution_count": 0,
      "outputs": []
    },
    {
      "cell_type": "code",
      "metadata": {
        "id": "N9nDeIu_Nniv",
        "colab_type": "code",
        "colab": {}
      },
      "source": [
        "X_raw = np.load(DATA_PATH+\"X_patch_train.npy\")\n",
        "Y_raw = np.load(DATA_PATH+\"Y_patch_train.npy\")"
      ],
      "execution_count": 0,
      "outputs": []
    },
    {
      "cell_type": "markdown",
      "metadata": {
        "id": "Y48zOMCqJ3bB",
        "colab_type": "text"
      },
      "source": [
        ""
      ]
    },
    {
      "cell_type": "code",
      "metadata": {
        "id": "cn_3FNsvPbPR",
        "colab_type": "code",
        "colab": {}
      },
      "source": [
        "# Create balance pos-neg dataset\n",
        "thresh=0.4\n",
        "pos_X = X_raw[Y_raw>thresh]\n",
        "neg_X = X_raw[Y_raw==0]\n",
        "pos_Y = Y_raw[Y_raw>thresh]\n",
        "num_data = pos_X.shape[0]\n",
        "neg_Y = Y_raw[Y_raw==0]\n",
        "neg_X = shuffle(neg_X)[:num_data]"
      ],
      "execution_count": 0,
      "outputs": []
    },
    {
      "cell_type": "code",
      "metadata": {
        "id": "lefEkb50eBk2",
        "colab_type": "code",
        "outputId": "feefcf1a-672e-441e-b579-1901f6b2bdfe",
        "colab": {
          "base_uri": "https://localhost:8080/",
          "height": 35
        }
      },
      "source": [
        "num_data"
      ],
      "execution_count": 0,
      "outputs": [
        {
          "output_type": "execute_result",
          "data": {
            "text/plain": [
              "7967"
            ]
          },
          "metadata": {
            "tags": []
          },
          "execution_count": 55
        }
      ]
    },
    {
      "cell_type": "code",
      "metadata": {
        "id": "qEA6vMKsJkPc",
        "colab_type": "code",
        "outputId": "9e3dfc7c-988a-4e30-9260-dd91f9a47b6e",
        "colab": {
          "base_uri": "https://localhost:8080/",
          "height": 35
        }
      },
      "source": [
        "num_data"
      ],
      "execution_count": 0,
      "outputs": [
        {
          "output_type": "execute_result",
          "data": {
            "text/plain": [
              "38619"
            ]
          },
          "metadata": {
            "tags": []
          },
          "execution_count": 27
        }
      ]
    },
    {
      "cell_type": "code",
      "metadata": {
        "id": "L3tsynIB27X8",
        "colab_type": "code",
        "colab": {}
      },
      "source": [
        "X = np.concatenate((pos_X,neg_X),axis=0)\n",
        "Y = np.concatenate((np.ones(num_data),np.zeros(num_data)),axis=0)\n",
        "np.save(DATA_PATH + \"Y_wt_train.npy\",Y)"
      ],
      "execution_count": 0,
      "outputs": []
    },
    {
      "cell_type": "code",
      "metadata": {
        "id": "mOvY7HjuSW0Q",
        "colab_type": "code",
        "colab": {}
      },
      "source": [
        "thresh=0.4\n",
        "pos_X = X_raw[Y_raw>thresh]\n",
        "num_data = pos_X.shape[0]\n",
        "Y_wt = np.load(DATA_PATH + \"Y_wt_train.npy\")\n",
        "Y = np.concatenate((np.ones(num_data),np.zeros(num_data)),axis=0)\n"
      ],
      "execution_count": 0,
      "outputs": []
    },
    {
      "cell_type": "code",
      "metadata": {
        "id": "9QVf_qCVQaVq",
        "colab_type": "code",
        "colab": {}
      },
      "source": [
        "def mu_std_sum(matrix):\n",
        "  return [np.mean(matrix),np.std(matrix),np.sum(matrix)]\n",
        "\n",
        "def extract_features(image):\n",
        "\n",
        "  # Transpose to iterate through channels\n",
        "  image = np.transpose(image,(2,0,1))\n",
        "  vector = []\n",
        "\n",
        "  for channel in image[1:]: # Remove Y Channel\n",
        "\n",
        "    # iterate through db1->db5\n",
        "    for i in range(1,6):\n",
        "      coeffs = pywt.wavedec2(channel,\"db\"+str(i),level=3)\n",
        "\n",
        "      # Append first mat mu_std_sum\n",
        "      vector += mu_std_sum(coeffs[0])\n",
        "\n",
        "      for dec in coeffs[1:]:\n",
        "        vector += mu_std_sum(dec[0])\n",
        "        vector += mu_std_sum(dec[1])\n",
        "        vector += mu_std_sum(dec[2])\n",
        "\n",
        "  return vector\n",
        "      \n"
      ],
      "execution_count": 0,
      "outputs": []
    },
    {
      "cell_type": "code",
      "metadata": {
        "id": "TXMUPTEHAeZh",
        "colab_type": "code",
        "outputId": "8bbf10cc-4ad8-412e-e468-c0fa35d7f8ae",
        "colab": {
          "base_uri": "https://localhost:8080/",
          "height": 104,
          "referenced_widgets": [
            "94dbea9bf1424b49a43742b4d515ba65",
            "7df868952b5a4a208a8d730b20663c3d",
            "762b3862b9b64334805fe0d74d972537",
            "01157ebd0f684fa885cc2dc545cdea86",
            "02d739ab5f9e4b70bf6032a310bf5a3a",
            "342fc6c3f4c147909468d87a6a14c37a",
            "b856faba5702414b83e19a5da9c973dc",
            "79df79965fb7434c8e36cf757c983a22"
          ]
        }
      },
      "source": [
        "X_wt=[]\n",
        "for item in tqdm_notebook(X):\n",
        "  X_wt.append(extract_features(item))\n",
        "X_wt=np.array(X_wt)"
      ],
      "execution_count": 0,
      "outputs": [
        {
          "output_type": "display_data",
          "data": {
            "application/vnd.jupyter.widget-view+json": {
              "model_id": "94dbea9bf1424b49a43742b4d515ba65",
              "version_minor": 0,
              "version_major": 2
            },
            "text/plain": [
              "HBox(children=(IntProgress(value=0, max=15934), HTML(value='')))"
            ]
          },
          "metadata": {
            "tags": []
          }
        },
        {
          "output_type": "stream",
          "text": [
            "/usr/local/lib/python3.6/dist-packages/pywt/_multilevel.py:45: UserWarning: Level value of 3 is too high: all coefficients will experience boundary effects.\n",
            "  \"boundary effects.\").format(level))\n"
          ],
          "name": "stderr"
        }
      ]
    },
    {
      "cell_type": "code",
      "metadata": {
        "id": "vzNsfBzOGLQ8",
        "colab_type": "code",
        "colab": {}
      },
      "source": [
        "np.save(DATA_PATH+\"X_wt_train.npy\",X_wt)\n",
        "#X_wt = np.load(DATA_PATH + \"X_wt_train.npy\")"
      ],
      "execution_count": 0,
      "outputs": []
    },
    {
      "cell_type": "code",
      "metadata": {
        "id": "Pyad0aPBBY3O",
        "colab_type": "code",
        "colab": {}
      },
      "source": [
        "X_wt = np.load(DATA_PATH+\"X_wt_train.npy\")"
      ],
      "execution_count": 0,
      "outputs": []
    },
    {
      "cell_type": "code",
      "metadata": {
        "id": "_bv8nMuRS_UW",
        "colab_type": "code",
        "outputId": "72da815c-7a55-4f05-a0db-e7860c9237b1",
        "colab": {
          "base_uri": "https://localhost:8080/",
          "height": 35
        }
      },
      "source": [
        "X_wt.shape"
      ],
      "execution_count": 0,
      "outputs": [
        {
          "output_type": "execute_result",
          "data": {
            "text/plain": [
              "(15934, 300)"
            ]
          },
          "metadata": {
            "tags": []
          },
          "execution_count": 12
        }
      ]
    },
    {
      "cell_type": "code",
      "metadata": {
        "id": "0okRdx_cQ5PI",
        "colab_type": "code",
        "colab": {}
      },
      "source": [
        "def recall_m(y_true, y_pred):\n",
        "        true_positives = K.sum(K.round(K.clip(y_true * y_pred, 0, 1)))\n",
        "        possible_positives = K.sum(K.round(K.clip(y_true, 0, 1)))\n",
        "        recall = true_positives / (possible_positives + K.epsilon())\n",
        "        return recall\n",
        "\n",
        "def precision_m(y_true, y_pred):\n",
        "        true_positives = K.sum(K.round(K.clip(y_true * y_pred, 0, 1)))\n",
        "        predicted_positives = K.sum(K.round(K.clip(y_pred, 0, 1)))\n",
        "        precision = true_positives / (predicted_positives + K.epsilon())\n",
        "        return precision\n",
        "\n",
        "def f1_m(y_true, y_pred):\n",
        "    precision = precision_m(y_true, y_pred)\n",
        "    recall = recall_m(y_true, y_pred)\n",
        "    return 2*((precision*recall)/(precision+recall+K.epsilon()))\n"
      ],
      "execution_count": 0,
      "outputs": []
    },
    {
      "cell_type": "code",
      "metadata": {
        "id": "VAGbFm7UXFo2",
        "colab_type": "code",
        "colab": {}
      },
      "source": [
        "import sklearn\n",
        "scaler_obj = sklearn.preprocessing.MinMaxScaler()\n",
        "X_wt_scaled = scaler_obj.fit_transform(X_wt)"
      ],
      "execution_count": 0,
      "outputs": []
    },
    {
      "cell_type": "code",
      "metadata": {
        "id": "2LGbKFtgHDdl",
        "colab_type": "code",
        "outputId": "1e91e38c-b02a-426d-f5d2-b7994632cf81",
        "colab": {
          "base_uri": "https://localhost:8080/",
          "height": 55
        }
      },
      "source": [
        "import sklearn\n",
        "sklearn.preprocessing"
      ],
      "execution_count": 0,
      "outputs": [
        {
          "output_type": "execute_result",
          "data": {
            "text/plain": [
              "<module 'sklearn.preprocessing' from '/usr/local/lib/python3.6/dist-packages/sklearn/preprocessing/__init__.py'>"
            ]
          },
          "metadata": {
            "tags": []
          },
          "execution_count": 15
        }
      ]
    },
    {
      "cell_type": "code",
      "metadata": {
        "id": "5Sp-rGvDjTFx",
        "colab_type": "code",
        "colab": {}
      },
      "source": [
        "indices = np.arange(Y.shape[0])\n",
        "np.random.shuffle(indices)\n",
        "X_wt_scaled_ = X_wt_scaled[indices]\n",
        "Y_ = Y[indices]"
      ],
      "execution_count": 0,
      "outputs": []
    },
    {
      "cell_type": "code",
      "metadata": {
        "id": "jdLwmL-BT4YG",
        "colab_type": "code",
        "outputId": "d9b602b0-a9e0-42ab-883f-ed084c319415",
        "colab": {
          "base_uri": "https://localhost:8080/",
          "height": 243
        }
      },
      "source": [
        "X_wt_scaled_"
      ],
      "execution_count": 0,
      "outputs": [
        {
          "output_type": "execute_result",
          "data": {
            "text/plain": [
              "array([[0.4823891 , 0.59330357, 0.4823891 , ..., 0.57814416, 0.07173087,\n",
              "        0.57814416],\n",
              "       [0.46917369, 0.04722534, 0.46917369, ..., 0.58925985, 0.00874757,\n",
              "        0.58925985],\n",
              "       [0.33939824, 0.11420464, 0.33939824, ..., 0.58375864, 0.02441784,\n",
              "        0.58375864],\n",
              "       ...,\n",
              "       [0.41156433, 0.02241958, 0.41156433, ..., 0.59689137, 0.01795309,\n",
              "        0.59689137],\n",
              "       [0.42416698, 0.04141214, 0.42416698, ..., 0.59398946, 0.04871889,\n",
              "        0.59398946],\n",
              "       [0.4079167 , 0.12680828, 0.4079167 , ..., 0.58534565, 0.02193269,\n",
              "        0.58534565]])"
            ]
          },
          "metadata": {
            "tags": []
          },
          "execution_count": 37
        }
      ]
    },
    {
      "cell_type": "code",
      "metadata": {
        "id": "6ABEgbecZMu8",
        "colab_type": "code",
        "colab": {}
      },
      "source": [
        ""
      ],
      "execution_count": 0,
      "outputs": []
    },
    {
      "cell_type": "code",
      "metadata": {
        "id": "KmxwSKXSZM5-",
        "colab_type": "code",
        "colab": {}
      },
      "source": [
        ""
      ],
      "execution_count": 0,
      "outputs": []
    },
    {
      "cell_type": "code",
      "metadata": {
        "id": "Cuj5Sel0WZVq",
        "colab_type": "code",
        "colab": {}
      },
      "source": [
        "from tensorflow import keras\n",
        "from tensorflow.keras import optimizers\n",
        "from tensorflow.keras.datasets import cifar10\n",
        "from tensorflow.keras.models import Sequential\n",
        "from tensorflow.keras.layers import Conv2D, Dense, Flatten, MaxPooling2D,Dropout\n",
        "from tensorflow.keras.callbacks import LearningRateScheduler, TensorBoard,ModelCheckpoint\n",
        "from tensorflow.keras.metrics import BinaryAccuracy\n",
        "\n",
        "cp = ModelCheckpoint(DATA_PATH + \"weights.{epoch:02d}-{val_accuracy:.4f}.h5\",\n",
        "                     monitor='val_accuracy', \n",
        "                     verbose=1, \n",
        "                     save_best_only=True,\n",
        "                     mode='max',\n",
        "                     save_weights_only=True)\n",
        "\n",
        "def build_model():\n",
        "\n",
        "    model = Sequential()\n",
        "\n",
        "    model.add(Dense(450, activation = 'relu', kernel_initializer='he_normal'))\n",
        "\n",
        "    model.add(Dense(300, activation = 'relu', kernel_initializer='he_normal'))\n",
        "\n",
        "    model.add(Dense(300, activation = 'relu', kernel_initializer='he_normal'))\n",
        "    model.add(Dropout(0.5))\n",
        "\n",
        "    model.add(Dense(200, activation = 'relu', kernel_initializer='he_normal'))\n",
        "    model.add(Dropout(0.5))\n",
        "\n",
        "    model.add(Dense(150, activation = 'relu', kernel_initializer='he_normal'))\n",
        "    model.add(Dropout(0.5))\n",
        "    model.add(Dense(100, activation = 'relu', kernel_initializer='he_normal'))\n",
        "    \n",
        "    model.add(Dropout(0.5))\n",
        "\n",
        "    model.add(Dense(1, activation = 'sigmoid', kernel_initializer='he_normal'))\n",
        "    model.compile(loss='binary_crossentropy', \n",
        "                  optimizer='adam', \n",
        "                  metrics=[\"accuracy\"])\n",
        "    return model"
      ],
      "execution_count": 0,
      "outputs": []
    },
    {
      "cell_type": "code",
      "metadata": {
        "id": "_a7kWzZAWf5x",
        "colab_type": "code",
        "outputId": "282fdeda-08c2-4fc1-c481-9a023eaa3ffc",
        "colab": {
          "base_uri": "https://localhost:8080/",
          "height": 1000
        }
      },
      "source": [
        "model = build_model()\n",
        "BATCH_SIZE = 256\n",
        "model.fit(X_wt_scaled_,Y_,\n",
        "          batch_size=BATCH_SIZE,\n",
        "          epochs=1000,\n",
        "          validation_split=0.22,\n",
        "          callbacks=[cp])"
      ],
      "execution_count": 0,
      "outputs": [
        {
          "output_type": "stream",
          "text": [
            "11264/12428 [==========================>...] - ETA: 0s - loss: 0.3022 - accuracy: 0.8665\n",
            "Epoch 00226: val_accuracy did not improve from 0.82972\n",
            "12428/12428 [==============================] - 0s 18us/sample - loss: 0.3005 - accuracy: 0.8673 - val_loss: 0.5058 - val_accuracy: 0.8046\n",
            "Epoch 227/1000\n",
            "11776/12428 [===========================>..] - ETA: 0s - loss: 0.2803 - accuracy: 0.8748\n",
            "Epoch 00227: val_accuracy did not improve from 0.82972\n",
            "12428/12428 [==============================] - 0s 17us/sample - loss: 0.2783 - accuracy: 0.8765 - val_loss: 0.5393 - val_accuracy: 0.8135\n",
            "Epoch 228/1000\n",
            "11264/12428 [==========================>...] - ETA: 0s - loss: 0.3005 - accuracy: 0.8675\n",
            "Epoch 00228: val_accuracy did not improve from 0.82972\n",
            "12428/12428 [==============================] - 0s 18us/sample - loss: 0.3026 - accuracy: 0.8664 - val_loss: 0.4553 - val_accuracy: 0.8189\n",
            "Epoch 229/1000\n",
            "11520/12428 [==========================>...] - ETA: 0s - loss: 0.2876 - accuracy: 0.8727\n",
            "Epoch 00229: val_accuracy did not improve from 0.82972\n",
            "12428/12428 [==============================] - 0s 17us/sample - loss: 0.2887 - accuracy: 0.8733 - val_loss: 0.4664 - val_accuracy: 0.8257\n",
            "Epoch 230/1000\n",
            "11520/12428 [==========================>...] - ETA: 0s - loss: 0.2853 - accuracy: 0.8757\n",
            "Epoch 00230: val_accuracy did not improve from 0.82972\n",
            "12428/12428 [==============================] - 0s 17us/sample - loss: 0.2871 - accuracy: 0.8738 - val_loss: 0.4842 - val_accuracy: 0.8260\n",
            "Epoch 231/1000\n",
            "11008/12428 [=========================>....] - ETA: 0s - loss: 0.2778 - accuracy: 0.8775\n",
            "Epoch 00231: val_accuracy did not improve from 0.82972\n",
            "12428/12428 [==============================] - 0s 18us/sample - loss: 0.2834 - accuracy: 0.8727 - val_loss: 0.5173 - val_accuracy: 0.8100\n",
            "Epoch 232/1000\n",
            "11776/12428 [===========================>..] - ETA: 0s - loss: 0.2901 - accuracy: 0.8725\n",
            "Epoch 00232: val_accuracy did not improve from 0.82972\n",
            "12428/12428 [==============================] - 0s 17us/sample - loss: 0.2876 - accuracy: 0.8741 - val_loss: 0.5129 - val_accuracy: 0.8240\n",
            "Epoch 233/1000\n",
            "11264/12428 [==========================>...] - ETA: 0s - loss: 0.2774 - accuracy: 0.8770\n",
            "Epoch 00233: val_accuracy did not improve from 0.82972\n",
            "12428/12428 [==============================] - 0s 17us/sample - loss: 0.2776 - accuracy: 0.8762 - val_loss: 0.4813 - val_accuracy: 0.8186\n",
            "Epoch 234/1000\n",
            "10752/12428 [========================>.....] - ETA: 0s - loss: 0.2872 - accuracy: 0.8713\n",
            "Epoch 00234: val_accuracy did not improve from 0.82972\n",
            "12428/12428 [==============================] - 0s 18us/sample - loss: 0.2861 - accuracy: 0.8721 - val_loss: 0.4767 - val_accuracy: 0.8189\n",
            "Epoch 235/1000\n",
            "10752/12428 [========================>.....] - ETA: 0s - loss: 0.2790 - accuracy: 0.8783\n",
            "Epoch 00235: val_accuracy did not improve from 0.82972\n",
            "12428/12428 [==============================] - 0s 18us/sample - loss: 0.2800 - accuracy: 0.8774 - val_loss: 0.5271 - val_accuracy: 0.8100\n",
            "Epoch 236/1000\n",
            "11776/12428 [===========================>..] - ETA: 0s - loss: 0.2705 - accuracy: 0.8804\n",
            "Epoch 00236: val_accuracy did not improve from 0.82972\n",
            "12428/12428 [==============================] - 0s 17us/sample - loss: 0.2689 - accuracy: 0.8809 - val_loss: 0.5226 - val_accuracy: 0.8257\n",
            "Epoch 237/1000\n",
            "10240/12428 [=======================>......] - ETA: 0s - loss: 0.2741 - accuracy: 0.8813\n",
            "Epoch 00237: val_accuracy did not improve from 0.82972\n",
            "12428/12428 [==============================] - 0s 19us/sample - loss: 0.2798 - accuracy: 0.8787 - val_loss: 0.4976 - val_accuracy: 0.8177\n",
            "Epoch 238/1000\n",
            "11264/12428 [==========================>...] - ETA: 0s - loss: 0.2762 - accuracy: 0.8773\n",
            "Epoch 00238: val_accuracy did not improve from 0.82972\n",
            "12428/12428 [==============================] - 0s 17us/sample - loss: 0.2767 - accuracy: 0.8777 - val_loss: 0.5206 - val_accuracy: 0.8232\n",
            "Epoch 239/1000\n",
            "12288/12428 [============================>.] - ETA: 0s - loss: 0.2781 - accuracy: 0.8791\n",
            "Epoch 00239: val_accuracy did not improve from 0.82972\n",
            "12428/12428 [==============================] - 0s 16us/sample - loss: 0.2789 - accuracy: 0.8788 - val_loss: 0.5141 - val_accuracy: 0.8172\n",
            "Epoch 240/1000\n",
            "10496/12428 [========================>.....] - ETA: 0s - loss: 0.2733 - accuracy: 0.8797\n",
            "Epoch 00240: val_accuracy did not improve from 0.82972\n",
            "12428/12428 [==============================] - 0s 19us/sample - loss: 0.2696 - accuracy: 0.8819 - val_loss: 0.5258 - val_accuracy: 0.8186\n",
            "Epoch 241/1000\n",
            "12032/12428 [============================>.] - ETA: 0s - loss: 0.2615 - accuracy: 0.8881\n",
            "Epoch 00241: val_accuracy did not improve from 0.82972\n",
            "12428/12428 [==============================] - 0s 17us/sample - loss: 0.2639 - accuracy: 0.8875 - val_loss: 0.6471 - val_accuracy: 0.7998\n",
            "Epoch 242/1000\n",
            "10752/12428 [========================>.....] - ETA: 0s - loss: 0.3531 - accuracy: 0.8427\n",
            "Epoch 00242: val_accuracy did not improve from 0.82972\n",
            "12428/12428 [==============================] - 0s 19us/sample - loss: 0.3449 - accuracy: 0.8464 - val_loss: 0.4658 - val_accuracy: 0.8140\n",
            "Epoch 243/1000\n",
            "11520/12428 [==========================>...] - ETA: 0s - loss: 0.2826 - accuracy: 0.8776\n",
            "Epoch 00243: val_accuracy did not improve from 0.82972\n",
            "12428/12428 [==============================] - 0s 17us/sample - loss: 0.2808 - accuracy: 0.8781 - val_loss: 0.4703 - val_accuracy: 0.8243\n",
            "Epoch 244/1000\n",
            "11520/12428 [==========================>...] - ETA: 0s - loss: 0.2802 - accuracy: 0.8736\n",
            "Epoch 00244: val_accuracy did not improve from 0.82972\n",
            "12428/12428 [==============================] - 0s 18us/sample - loss: 0.2806 - accuracy: 0.8734 - val_loss: 0.5246 - val_accuracy: 0.8189\n",
            "Epoch 245/1000\n",
            "10752/12428 [========================>.....] - ETA: 0s - loss: 0.2763 - accuracy: 0.8770\n",
            "Epoch 00245: val_accuracy did not improve from 0.82972\n",
            "12428/12428 [==============================] - 0s 18us/sample - loss: 0.2774 - accuracy: 0.8775 - val_loss: 0.5146 - val_accuracy: 0.8212\n",
            "Epoch 246/1000\n",
            "10752/12428 [========================>.....] - ETA: 0s - loss: 0.2681 - accuracy: 0.8804\n",
            "Epoch 00246: val_accuracy did not improve from 0.82972\n",
            "12428/12428 [==============================] - 0s 18us/sample - loss: 0.2653 - accuracy: 0.8815 - val_loss: 0.5888 - val_accuracy: 0.8075\n",
            "Epoch 247/1000\n",
            "10496/12428 [========================>.....] - ETA: 0s - loss: 0.3064 - accuracy: 0.8682\n",
            "Epoch 00247: val_accuracy did not improve from 0.82972\n",
            "12428/12428 [==============================] - 0s 18us/sample - loss: 0.3025 - accuracy: 0.8684 - val_loss: 0.5027 - val_accuracy: 0.8180\n",
            "Epoch 248/1000\n",
            "11520/12428 [==========================>...] - ETA: 0s - loss: 0.2646 - accuracy: 0.8866\n",
            "Epoch 00248: val_accuracy did not improve from 0.82972\n",
            "12428/12428 [==============================] - 0s 17us/sample - loss: 0.2662 - accuracy: 0.8849 - val_loss: 0.4996 - val_accuracy: 0.8132\n",
            "Epoch 249/1000\n",
            "11264/12428 [==========================>...] - ETA: 0s - loss: 0.2687 - accuracy: 0.8851\n",
            "Epoch 00249: val_accuracy did not improve from 0.82972\n",
            "12428/12428 [==============================] - 0s 18us/sample - loss: 0.2684 - accuracy: 0.8862 - val_loss: 0.5045 - val_accuracy: 0.8203\n",
            "Epoch 250/1000\n",
            "12288/12428 [============================>.] - ETA: 0s - loss: 0.3030 - accuracy: 0.8656\n",
            "Epoch 00250: val_accuracy did not improve from 0.82972\n",
            "12428/12428 [==============================] - 0s 16us/sample - loss: 0.3026 - accuracy: 0.8659 - val_loss: 0.5133 - val_accuracy: 0.8149\n",
            "Epoch 251/1000\n",
            "11776/12428 [===========================>..] - ETA: 0s - loss: 0.2705 - accuracy: 0.8816\n",
            "Epoch 00251: val_accuracy did not improve from 0.82972\n",
            "12428/12428 [==============================] - 0s 17us/sample - loss: 0.2687 - accuracy: 0.8828 - val_loss: 0.5151 - val_accuracy: 0.8200\n",
            "Epoch 252/1000\n",
            "10752/12428 [========================>.....] - ETA: 0s - loss: 0.2718 - accuracy: 0.8827\n",
            "Epoch 00252: val_accuracy did not improve from 0.82972\n",
            "12428/12428 [==============================] - 0s 18us/sample - loss: 0.2694 - accuracy: 0.8843 - val_loss: 0.5462 - val_accuracy: 0.8160\n",
            "Epoch 253/1000\n",
            "10752/12428 [========================>.....] - ETA: 0s - loss: 0.2945 - accuracy: 0.8711\n",
            "Epoch 00253: val_accuracy did not improve from 0.82972\n",
            "12428/12428 [==============================] - 0s 18us/sample - loss: 0.2919 - accuracy: 0.8715 - val_loss: 0.4953 - val_accuracy: 0.8200\n",
            "Epoch 254/1000\n",
            "12032/12428 [============================>.] - ETA: 0s - loss: 0.2868 - accuracy: 0.8737\n",
            "Epoch 00254: val_accuracy did not improve from 0.82972\n",
            "12428/12428 [==============================] - 0s 17us/sample - loss: 0.2878 - accuracy: 0.8735 - val_loss: 0.5326 - val_accuracy: 0.8186\n",
            "Epoch 255/1000\n",
            "10752/12428 [========================>.....] - ETA: 0s - loss: 0.2787 - accuracy: 0.8805\n",
            "Epoch 00255: val_accuracy did not improve from 0.82972\n",
            "12428/12428 [==============================] - 0s 19us/sample - loss: 0.2782 - accuracy: 0.8815 - val_loss: 0.5299 - val_accuracy: 0.8252\n",
            "Epoch 256/1000\n",
            " 9472/12428 [=====================>........] - ETA: 0s - loss: 0.2889 - accuracy: 0.8736\n",
            "Epoch 00256: val_accuracy did not improve from 0.82972\n",
            "12428/12428 [==============================] - 0s 20us/sample - loss: 0.2859 - accuracy: 0.8747 - val_loss: 0.4860 - val_accuracy: 0.8189\n",
            "Epoch 257/1000\n",
            " 9728/12428 [======================>.......] - ETA: 0s - loss: 0.2692 - accuracy: 0.8832\n",
            "Epoch 00257: val_accuracy did not improve from 0.82972\n",
            "12428/12428 [==============================] - 0s 20us/sample - loss: 0.2689 - accuracy: 0.8823 - val_loss: 0.5732 - val_accuracy: 0.8052\n",
            "Epoch 258/1000\n",
            " 9984/12428 [=======================>......] - ETA: 0s - loss: 0.2669 - accuracy: 0.8823\n",
            "Epoch 00258: val_accuracy did not improve from 0.82972\n",
            "12428/12428 [==============================] - 0s 20us/sample - loss: 0.2652 - accuracy: 0.8824 - val_loss: 0.5722 - val_accuracy: 0.8175\n",
            "Epoch 259/1000\n",
            " 9984/12428 [=======================>......] - ETA: 0s - loss: 0.2658 - accuracy: 0.8812\n",
            "Epoch 00259: val_accuracy did not improve from 0.82972\n",
            "12428/12428 [==============================] - 0s 20us/sample - loss: 0.2683 - accuracy: 0.8803 - val_loss: 0.5620 - val_accuracy: 0.8166\n",
            "Epoch 260/1000\n",
            "10496/12428 [========================>.....] - ETA: 0s - loss: 0.2664 - accuracy: 0.8813\n",
            "Epoch 00260: val_accuracy did not improve from 0.82972\n",
            "12428/12428 [==============================] - 0s 19us/sample - loss: 0.2617 - accuracy: 0.8839 - val_loss: 0.5525 - val_accuracy: 0.8160\n",
            "Epoch 261/1000\n",
            "11264/12428 [==========================>...] - ETA: 0s - loss: 0.2523 - accuracy: 0.8883\n",
            "Epoch 00261: val_accuracy did not improve from 0.82972\n",
            "12428/12428 [==============================] - 0s 18us/sample - loss: 0.2514 - accuracy: 0.8886 - val_loss: 0.6060 - val_accuracy: 0.8197\n",
            "Epoch 262/1000\n",
            "10496/12428 [========================>.....] - ETA: 0s - loss: 0.2642 - accuracy: 0.8851\n",
            "Epoch 00262: val_accuracy did not improve from 0.82972\n",
            "12428/12428 [==============================] - 0s 19us/sample - loss: 0.2690 - accuracy: 0.8837 - val_loss: 0.4998 - val_accuracy: 0.8169\n",
            "Epoch 263/1000\n",
            "10240/12428 [=======================>......] - ETA: 0s - loss: 0.2686 - accuracy: 0.8839\n",
            "Epoch 00263: val_accuracy did not improve from 0.82972\n",
            "12428/12428 [==============================] - 0s 19us/sample - loss: 0.2674 - accuracy: 0.8841 - val_loss: 0.5598 - val_accuracy: 0.8212\n",
            "Epoch 264/1000\n",
            "11264/12428 [==========================>...] - ETA: 0s - loss: 0.2638 - accuracy: 0.8826\n",
            "Epoch 00264: val_accuracy did not improve from 0.82972\n",
            "12428/12428 [==============================] - 0s 17us/sample - loss: 0.2648 - accuracy: 0.8823 - val_loss: 0.5430 - val_accuracy: 0.8149\n",
            "Epoch 265/1000\n",
            "11008/12428 [=========================>....] - ETA: 0s - loss: 0.2572 - accuracy: 0.8874\n",
            "Epoch 00265: val_accuracy did not improve from 0.82972\n",
            "12428/12428 [==============================] - 0s 18us/sample - loss: 0.2588 - accuracy: 0.8869 - val_loss: 0.5467 - val_accuracy: 0.8183\n",
            "Epoch 266/1000\n",
            "11008/12428 [=========================>....] - ETA: 0s - loss: 0.2699 - accuracy: 0.8827\n",
            "Epoch 00266: val_accuracy did not improve from 0.82972\n",
            "12428/12428 [==============================] - 0s 18us/sample - loss: 0.2725 - accuracy: 0.8814 - val_loss: 0.5668 - val_accuracy: 0.8163\n",
            "Epoch 267/1000\n",
            "11520/12428 [==========================>...] - ETA: 0s - loss: 0.2768 - accuracy: 0.8813\n",
            "Epoch 00267: val_accuracy did not improve from 0.82972\n",
            "12428/12428 [==============================] - 0s 17us/sample - loss: 0.2749 - accuracy: 0.8816 - val_loss: 0.5753 - val_accuracy: 0.8046\n",
            "Epoch 268/1000\n",
            "11520/12428 [==========================>...] - ETA: 0s - loss: 0.2730 - accuracy: 0.8811\n",
            "Epoch 00268: val_accuracy did not improve from 0.82972\n",
            "12428/12428 [==============================] - 0s 18us/sample - loss: 0.2693 - accuracy: 0.8829 - val_loss: 0.5759 - val_accuracy: 0.8157\n",
            "Epoch 269/1000\n",
            "11008/12428 [=========================>....] - ETA: 0s - loss: 0.2521 - accuracy: 0.8939\n",
            "Epoch 00269: val_accuracy did not improve from 0.82972\n",
            "12428/12428 [==============================] - 0s 19us/sample - loss: 0.2533 - accuracy: 0.8929 - val_loss: 0.5838 - val_accuracy: 0.8140\n",
            "Epoch 270/1000\n",
            "10496/12428 [========================>.....] - ETA: 0s - loss: 0.2712 - accuracy: 0.8811\n",
            "Epoch 00270: val_accuracy did not improve from 0.82972\n",
            "12428/12428 [==============================] - 0s 19us/sample - loss: 0.2695 - accuracy: 0.8828 - val_loss: 0.5545 - val_accuracy: 0.8214\n",
            "Epoch 271/1000\n",
            "10496/12428 [========================>.....] - ETA: 0s - loss: 0.2647 - accuracy: 0.8844\n",
            "Epoch 00271: val_accuracy did not improve from 0.82972\n",
            "12428/12428 [==============================] - 0s 19us/sample - loss: 0.2705 - accuracy: 0.8819 - val_loss: 0.5362 - val_accuracy: 0.8126\n",
            "Epoch 272/1000\n",
            "10496/12428 [========================>.....] - ETA: 0s - loss: 0.2503 - accuracy: 0.8911\n",
            "Epoch 00272: val_accuracy did not improve from 0.82972\n",
            "12428/12428 [==============================] - 0s 18us/sample - loss: 0.2522 - accuracy: 0.8902 - val_loss: 0.5785 - val_accuracy: 0.8183\n",
            "Epoch 273/1000\n",
            "10752/12428 [========================>.....] - ETA: 0s - loss: 0.2875 - accuracy: 0.8739\n",
            "Epoch 00273: val_accuracy did not improve from 0.82972\n",
            "12428/12428 [==============================] - 0s 19us/sample - loss: 0.2884 - accuracy: 0.8732 - val_loss: 0.5158 - val_accuracy: 0.8155\n",
            "Epoch 274/1000\n",
            "10496/12428 [========================>.....] - ETA: 0s - loss: 0.2641 - accuracy: 0.8878\n",
            "Epoch 00274: val_accuracy did not improve from 0.82972\n",
            "12428/12428 [==============================] - 0s 19us/sample - loss: 0.2692 - accuracy: 0.8856 - val_loss: 0.4909 - val_accuracy: 0.8237\n",
            "Epoch 275/1000\n",
            "10752/12428 [========================>.....] - ETA: 0s - loss: 0.2618 - accuracy: 0.8858\n",
            "Epoch 00275: val_accuracy did not improve from 0.82972\n",
            "12428/12428 [==============================] - 0s 18us/sample - loss: 0.2651 - accuracy: 0.8844 - val_loss: 0.4870 - val_accuracy: 0.8192\n",
            "Epoch 276/1000\n",
            "11264/12428 [==========================>...] - ETA: 0s - loss: 0.2515 - accuracy: 0.8930\n",
            "Epoch 00276: val_accuracy did not improve from 0.82972\n",
            "12428/12428 [==============================] - 0s 17us/sample - loss: 0.2526 - accuracy: 0.8922 - val_loss: 0.5154 - val_accuracy: 0.8149\n",
            "Epoch 277/1000\n",
            "10496/12428 [========================>.....] - ETA: 0s - loss: 0.2739 - accuracy: 0.8783\n",
            "Epoch 00277: val_accuracy did not improve from 0.82972\n",
            "12428/12428 [==============================] - 0s 19us/sample - loss: 0.2678 - accuracy: 0.8813 - val_loss: 0.5901 - val_accuracy: 0.8223\n",
            "Epoch 278/1000\n",
            "11008/12428 [=========================>....] - ETA: 0s - loss: 0.2514 - accuracy: 0.8890\n",
            "Epoch 00278: val_accuracy did not improve from 0.82972\n",
            "12428/12428 [==============================] - 0s 18us/sample - loss: 0.2531 - accuracy: 0.8881 - val_loss: 0.5768 - val_accuracy: 0.8189\n",
            "Epoch 279/1000\n",
            " 3840/12428 [========>.....................] - ETA: 0s - loss: 0.2460 - accuracy: 0.8979"
          ],
          "name": "stdout"
        },
        {
          "output_type": "error",
          "ename": "KeyError",
          "evalue": "ignored",
          "traceback": [
            "\u001b[0;31m---------------------------------------------------------------------------\u001b[0m",
            "\u001b[0;31mKeyboardInterrupt\u001b[0m                         Traceback (most recent call last)",
            "\u001b[0;32m/usr/local/lib/python3.6/dist-packages/tensorflow_core/python/keras/engine/training_v2.py\u001b[0m in \u001b[0;36mon_epoch\u001b[0;34m(self, epoch, mode)\u001b[0m\n\u001b[1;32m    766\u001b[0m     \u001b[0;32mtry\u001b[0m\u001b[0;34m:\u001b[0m\u001b[0;34m\u001b[0m\u001b[0;34m\u001b[0m\u001b[0m\n\u001b[0;32m--> 767\u001b[0;31m       \u001b[0;32myield\u001b[0m \u001b[0mepoch_logs\u001b[0m\u001b[0;34m\u001b[0m\u001b[0;34m\u001b[0m\u001b[0m\n\u001b[0m\u001b[1;32m    768\u001b[0m     \u001b[0;32mfinally\u001b[0m\u001b[0;34m:\u001b[0m\u001b[0;34m\u001b[0m\u001b[0;34m\u001b[0m\u001b[0m\n",
            "\u001b[0;32m/usr/local/lib/python3.6/dist-packages/tensorflow_core/python/keras/engine/training_v2.py\u001b[0m in \u001b[0;36mfit\u001b[0;34m(self, model, x, y, batch_size, epochs, verbose, callbacks, validation_split, validation_data, shuffle, class_weight, sample_weight, initial_epoch, steps_per_epoch, validation_steps, validation_freq, max_queue_size, workers, use_multiprocessing, **kwargs)\u001b[0m\n\u001b[1;32m    341\u001b[0m                 \u001b[0mtraining_context\u001b[0m\u001b[0;34m=\u001b[0m\u001b[0mtraining_context\u001b[0m\u001b[0;34m,\u001b[0m\u001b[0;34m\u001b[0m\u001b[0;34m\u001b[0m\u001b[0m\n\u001b[0;32m--> 342\u001b[0;31m                 total_epochs=epochs)\n\u001b[0m\u001b[1;32m    343\u001b[0m             \u001b[0mcbks\u001b[0m\u001b[0;34m.\u001b[0m\u001b[0mmake_logs\u001b[0m\u001b[0;34m(\u001b[0m\u001b[0mmodel\u001b[0m\u001b[0;34m,\u001b[0m \u001b[0mepoch_logs\u001b[0m\u001b[0;34m,\u001b[0m \u001b[0mtraining_result\u001b[0m\u001b[0;34m,\u001b[0m \u001b[0mModeKeys\u001b[0m\u001b[0;34m.\u001b[0m\u001b[0mTRAIN\u001b[0m\u001b[0;34m)\u001b[0m\u001b[0;34m\u001b[0m\u001b[0;34m\u001b[0m\u001b[0m\n",
            "\u001b[0;32m/usr/local/lib/python3.6/dist-packages/tensorflow_core/python/keras/engine/training_v2.py\u001b[0m in \u001b[0;36mrun_one_epoch\u001b[0;34m(model, iterator, execution_function, dataset_size, batch_size, strategy, steps_per_epoch, num_samples, mode, training_context, total_epochs)\u001b[0m\n\u001b[1;32m    127\u001b[0m       \u001b[0;32mtry\u001b[0m\u001b[0;34m:\u001b[0m\u001b[0;34m\u001b[0m\u001b[0;34m\u001b[0m\u001b[0m\n\u001b[0;32m--> 128\u001b[0;31m         \u001b[0mbatch_outs\u001b[0m \u001b[0;34m=\u001b[0m \u001b[0mexecution_function\u001b[0m\u001b[0;34m(\u001b[0m\u001b[0miterator\u001b[0m\u001b[0;34m)\u001b[0m\u001b[0;34m\u001b[0m\u001b[0;34m\u001b[0m\u001b[0m\n\u001b[0m\u001b[1;32m    129\u001b[0m       \u001b[0;32mexcept\u001b[0m \u001b[0;34m(\u001b[0m\u001b[0mStopIteration\u001b[0m\u001b[0;34m,\u001b[0m \u001b[0merrors\u001b[0m\u001b[0;34m.\u001b[0m\u001b[0mOutOfRangeError\u001b[0m\u001b[0;34m)\u001b[0m\u001b[0;34m:\u001b[0m\u001b[0;34m\u001b[0m\u001b[0;34m\u001b[0m\u001b[0m\n",
            "\u001b[0;32m/usr/local/lib/python3.6/dist-packages/tensorflow_core/python/keras/engine/training_v2_utils.py\u001b[0m in \u001b[0;36mexecution_function\u001b[0;34m(input_fn)\u001b[0m\n\u001b[1;32m     97\u001b[0m     return nest.map_structure(_non_none_constant_value,\n\u001b[0;32m---> 98\u001b[0;31m                               distributed_function(input_fn))\n\u001b[0m\u001b[1;32m     99\u001b[0m \u001b[0;34m\u001b[0m\u001b[0m\n",
            "\u001b[0;32m/usr/local/lib/python3.6/dist-packages/tensorflow_core/python/eager/def_function.py\u001b[0m in \u001b[0;36m__call__\u001b[0;34m(self, *args, **kwds)\u001b[0m\n\u001b[1;32m    567\u001b[0m     \u001b[0;32melse\u001b[0m\u001b[0;34m:\u001b[0m\u001b[0;34m\u001b[0m\u001b[0;34m\u001b[0m\u001b[0m\n\u001b[0;32m--> 568\u001b[0;31m       \u001b[0mresult\u001b[0m \u001b[0;34m=\u001b[0m \u001b[0mself\u001b[0m\u001b[0;34m.\u001b[0m\u001b[0m_call\u001b[0m\u001b[0;34m(\u001b[0m\u001b[0;34m*\u001b[0m\u001b[0margs\u001b[0m\u001b[0;34m,\u001b[0m \u001b[0;34m**\u001b[0m\u001b[0mkwds\u001b[0m\u001b[0;34m)\u001b[0m\u001b[0;34m\u001b[0m\u001b[0;34m\u001b[0m\u001b[0m\n\u001b[0m\u001b[1;32m    569\u001b[0m \u001b[0;34m\u001b[0m\u001b[0m\n",
            "\u001b[0;32m/usr/local/lib/python3.6/dist-packages/tensorflow_core/python/eager/def_function.py\u001b[0m in \u001b[0;36m_call\u001b[0;34m(self, *args, **kwds)\u001b[0m\n\u001b[1;32m    598\u001b[0m       \u001b[0;31m# defunned version which is guaranteed to never create variables.\u001b[0m\u001b[0;34m\u001b[0m\u001b[0;34m\u001b[0m\u001b[0;34m\u001b[0m\u001b[0m\n\u001b[0;32m--> 599\u001b[0;31m       \u001b[0;32mreturn\u001b[0m \u001b[0mself\u001b[0m\u001b[0;34m.\u001b[0m\u001b[0m_stateless_fn\u001b[0m\u001b[0;34m(\u001b[0m\u001b[0;34m*\u001b[0m\u001b[0margs\u001b[0m\u001b[0;34m,\u001b[0m \u001b[0;34m**\u001b[0m\u001b[0mkwds\u001b[0m\u001b[0;34m)\u001b[0m  \u001b[0;31m# pylint: disable=not-callable\u001b[0m\u001b[0;34m\u001b[0m\u001b[0;34m\u001b[0m\u001b[0m\n\u001b[0m\u001b[1;32m    600\u001b[0m     \u001b[0;32melif\u001b[0m \u001b[0mself\u001b[0m\u001b[0;34m.\u001b[0m\u001b[0m_stateful_fn\u001b[0m \u001b[0;32mis\u001b[0m \u001b[0;32mnot\u001b[0m \u001b[0;32mNone\u001b[0m\u001b[0;34m:\u001b[0m\u001b[0;34m\u001b[0m\u001b[0;34m\u001b[0m\u001b[0m\n",
            "\u001b[0;32m/usr/local/lib/python3.6/dist-packages/tensorflow_core/python/eager/function.py\u001b[0m in \u001b[0;36m__call__\u001b[0;34m(self, *args, **kwargs)\u001b[0m\n\u001b[1;32m   2362\u001b[0m       \u001b[0mgraph_function\u001b[0m\u001b[0;34m,\u001b[0m \u001b[0margs\u001b[0m\u001b[0;34m,\u001b[0m \u001b[0mkwargs\u001b[0m \u001b[0;34m=\u001b[0m \u001b[0mself\u001b[0m\u001b[0;34m.\u001b[0m\u001b[0m_maybe_define_function\u001b[0m\u001b[0;34m(\u001b[0m\u001b[0margs\u001b[0m\u001b[0;34m,\u001b[0m \u001b[0mkwargs\u001b[0m\u001b[0;34m)\u001b[0m\u001b[0;34m\u001b[0m\u001b[0;34m\u001b[0m\u001b[0m\n\u001b[0;32m-> 2363\u001b[0;31m     \u001b[0;32mreturn\u001b[0m \u001b[0mgraph_function\u001b[0m\u001b[0;34m.\u001b[0m\u001b[0m_filtered_call\u001b[0m\u001b[0;34m(\u001b[0m\u001b[0margs\u001b[0m\u001b[0;34m,\u001b[0m \u001b[0mkwargs\u001b[0m\u001b[0;34m)\u001b[0m  \u001b[0;31m# pylint: disable=protected-access\u001b[0m\u001b[0;34m\u001b[0m\u001b[0;34m\u001b[0m\u001b[0m\n\u001b[0m\u001b[1;32m   2364\u001b[0m \u001b[0;34m\u001b[0m\u001b[0m\n",
            "\u001b[0;32m/usr/local/lib/python3.6/dist-packages/tensorflow_core/python/eager/function.py\u001b[0m in \u001b[0;36m_filtered_call\u001b[0;34m(self, args, kwargs)\u001b[0m\n\u001b[1;32m   1610\u001b[0m                            resource_variable_ops.BaseResourceVariable))),\n\u001b[0;32m-> 1611\u001b[0;31m         self.captured_inputs)\n\u001b[0m\u001b[1;32m   1612\u001b[0m \u001b[0;34m\u001b[0m\u001b[0m\n",
            "\u001b[0;32m/usr/local/lib/python3.6/dist-packages/tensorflow_core/python/eager/function.py\u001b[0m in \u001b[0;36m_call_flat\u001b[0;34m(self, args, captured_inputs, cancellation_manager)\u001b[0m\n\u001b[1;32m   1691\u001b[0m       return self._build_call_outputs(self._inference_function.call(\n\u001b[0;32m-> 1692\u001b[0;31m           ctx, args, cancellation_manager=cancellation_manager))\n\u001b[0m\u001b[1;32m   1693\u001b[0m     forward_backward = self._select_forward_and_backward_functions(\n",
            "\u001b[0;32m/usr/local/lib/python3.6/dist-packages/tensorflow_core/python/eager/function.py\u001b[0m in \u001b[0;36mcall\u001b[0;34m(self, ctx, args, cancellation_manager)\u001b[0m\n\u001b[1;32m    544\u001b[0m               \u001b[0mattrs\u001b[0m\u001b[0;34m=\u001b[0m\u001b[0;34m(\u001b[0m\u001b[0;34m\"executor_type\"\u001b[0m\u001b[0;34m,\u001b[0m \u001b[0mexecutor_type\u001b[0m\u001b[0;34m,\u001b[0m \u001b[0;34m\"config_proto\"\u001b[0m\u001b[0;34m,\u001b[0m \u001b[0mconfig\u001b[0m\u001b[0;34m)\u001b[0m\u001b[0;34m,\u001b[0m\u001b[0;34m\u001b[0m\u001b[0;34m\u001b[0m\u001b[0m\n\u001b[0;32m--> 545\u001b[0;31m               ctx=ctx)\n\u001b[0m\u001b[1;32m    546\u001b[0m         \u001b[0;32melse\u001b[0m\u001b[0;34m:\u001b[0m\u001b[0;34m\u001b[0m\u001b[0;34m\u001b[0m\u001b[0m\n",
            "\u001b[0;32m/usr/local/lib/python3.6/dist-packages/tensorflow_core/python/eager/execute.py\u001b[0m in \u001b[0;36mquick_execute\u001b[0;34m(op_name, num_outputs, inputs, attrs, ctx, name)\u001b[0m\n\u001b[1;32m     60\u001b[0m                                                \u001b[0mop_name\u001b[0m\u001b[0;34m,\u001b[0m \u001b[0minputs\u001b[0m\u001b[0;34m,\u001b[0m \u001b[0mattrs\u001b[0m\u001b[0;34m,\u001b[0m\u001b[0;34m\u001b[0m\u001b[0;34m\u001b[0m\u001b[0m\n\u001b[0;32m---> 61\u001b[0;31m                                                num_outputs)\n\u001b[0m\u001b[1;32m     62\u001b[0m   \u001b[0;32mexcept\u001b[0m \u001b[0mcore\u001b[0m\u001b[0;34m.\u001b[0m\u001b[0m_NotOkStatusException\u001b[0m \u001b[0;32mas\u001b[0m \u001b[0me\u001b[0m\u001b[0;34m:\u001b[0m\u001b[0;34m\u001b[0m\u001b[0;34m\u001b[0m\u001b[0m\n",
            "\u001b[0;31mKeyboardInterrupt\u001b[0m: ",
            "\nDuring handling of the above exception, another exception occurred:\n",
            "\u001b[0;31mKeyError\u001b[0m                                  Traceback (most recent call last)",
            "\u001b[0;32m<ipython-input-18-2b5cf23274b7>\u001b[0m in \u001b[0;36m<module>\u001b[0;34m()\u001b[0m\n\u001b[1;32m      5\u001b[0m           \u001b[0mepochs\u001b[0m\u001b[0;34m=\u001b[0m\u001b[0;36m1000\u001b[0m\u001b[0;34m,\u001b[0m\u001b[0;34m\u001b[0m\u001b[0;34m\u001b[0m\u001b[0m\n\u001b[1;32m      6\u001b[0m           \u001b[0mvalidation_split\u001b[0m\u001b[0;34m=\u001b[0m\u001b[0;36m0.22\u001b[0m\u001b[0;34m,\u001b[0m\u001b[0;34m\u001b[0m\u001b[0;34m\u001b[0m\u001b[0m\n\u001b[0;32m----> 7\u001b[0;31m           callbacks=[cp])\n\u001b[0m",
            "\u001b[0;32m/usr/local/lib/python3.6/dist-packages/tensorflow_core/python/keras/engine/training.py\u001b[0m in \u001b[0;36mfit\u001b[0;34m(self, x, y, batch_size, epochs, verbose, callbacks, validation_split, validation_data, shuffle, class_weight, sample_weight, initial_epoch, steps_per_epoch, validation_steps, validation_freq, max_queue_size, workers, use_multiprocessing, **kwargs)\u001b[0m\n\u001b[1;32m    817\u001b[0m         \u001b[0mmax_queue_size\u001b[0m\u001b[0;34m=\u001b[0m\u001b[0mmax_queue_size\u001b[0m\u001b[0;34m,\u001b[0m\u001b[0;34m\u001b[0m\u001b[0;34m\u001b[0m\u001b[0m\n\u001b[1;32m    818\u001b[0m         \u001b[0mworkers\u001b[0m\u001b[0;34m=\u001b[0m\u001b[0mworkers\u001b[0m\u001b[0;34m,\u001b[0m\u001b[0;34m\u001b[0m\u001b[0;34m\u001b[0m\u001b[0m\n\u001b[0;32m--> 819\u001b[0;31m         use_multiprocessing=use_multiprocessing)\n\u001b[0m\u001b[1;32m    820\u001b[0m \u001b[0;34m\u001b[0m\u001b[0m\n\u001b[1;32m    821\u001b[0m   def evaluate(self,\n",
            "\u001b[0;32m/usr/local/lib/python3.6/dist-packages/tensorflow_core/python/keras/engine/training_v2.py\u001b[0m in \u001b[0;36mfit\u001b[0;34m(self, model, x, y, batch_size, epochs, verbose, callbacks, validation_split, validation_data, shuffle, class_weight, sample_weight, initial_epoch, steps_per_epoch, validation_steps, validation_freq, max_queue_size, workers, use_multiprocessing, **kwargs)\u001b[0m\n\u001b[1;32m    395\u001b[0m                       total_epochs=1)\n\u001b[1;32m    396\u001b[0m                   cbks.make_logs(model, epoch_logs, eval_result, ModeKeys.TEST,\n\u001b[0;32m--> 397\u001b[0;31m                                  prefix='val_')\n\u001b[0m\u001b[1;32m    398\u001b[0m \u001b[0;34m\u001b[0m\u001b[0m\n\u001b[1;32m    399\u001b[0m     \u001b[0;32mreturn\u001b[0m \u001b[0mmodel\u001b[0m\u001b[0;34m.\u001b[0m\u001b[0mhistory\u001b[0m\u001b[0;34m\u001b[0m\u001b[0;34m\u001b[0m\u001b[0m\n",
            "\u001b[0;32m/usr/lib/python3.6/contextlib.py\u001b[0m in \u001b[0;36m__exit__\u001b[0;34m(self, type, value, traceback)\u001b[0m\n\u001b[1;32m     97\u001b[0m                 \u001b[0mvalue\u001b[0m \u001b[0;34m=\u001b[0m \u001b[0mtype\u001b[0m\u001b[0;34m(\u001b[0m\u001b[0;34m)\u001b[0m\u001b[0;34m\u001b[0m\u001b[0;34m\u001b[0m\u001b[0m\n\u001b[1;32m     98\u001b[0m             \u001b[0;32mtry\u001b[0m\u001b[0;34m:\u001b[0m\u001b[0;34m\u001b[0m\u001b[0;34m\u001b[0m\u001b[0m\n\u001b[0;32m---> 99\u001b[0;31m                 \u001b[0mself\u001b[0m\u001b[0;34m.\u001b[0m\u001b[0mgen\u001b[0m\u001b[0;34m.\u001b[0m\u001b[0mthrow\u001b[0m\u001b[0;34m(\u001b[0m\u001b[0mtype\u001b[0m\u001b[0;34m,\u001b[0m \u001b[0mvalue\u001b[0m\u001b[0;34m,\u001b[0m \u001b[0mtraceback\u001b[0m\u001b[0;34m)\u001b[0m\u001b[0;34m\u001b[0m\u001b[0;34m\u001b[0m\u001b[0m\n\u001b[0m\u001b[1;32m    100\u001b[0m             \u001b[0;32mexcept\u001b[0m \u001b[0mStopIteration\u001b[0m \u001b[0;32mas\u001b[0m \u001b[0mexc\u001b[0m\u001b[0;34m:\u001b[0m\u001b[0;34m\u001b[0m\u001b[0;34m\u001b[0m\u001b[0m\n\u001b[1;32m    101\u001b[0m                 \u001b[0;31m# Suppress StopIteration *unless* it's the same exception that\u001b[0m\u001b[0;34m\u001b[0m\u001b[0;34m\u001b[0m\u001b[0;34m\u001b[0m\u001b[0m\n",
            "\u001b[0;32m/usr/local/lib/python3.6/dist-packages/tensorflow_core/python/keras/engine/training_v2.py\u001b[0m in \u001b[0;36mon_epoch\u001b[0;34m(self, epoch, mode)\u001b[0m\n\u001b[1;32m    769\u001b[0m       \u001b[0;32mif\u001b[0m \u001b[0mmode\u001b[0m \u001b[0;34m==\u001b[0m \u001b[0mModeKeys\u001b[0m\u001b[0;34m.\u001b[0m\u001b[0mTRAIN\u001b[0m\u001b[0;34m:\u001b[0m\u001b[0;34m\u001b[0m\u001b[0;34m\u001b[0m\u001b[0m\n\u001b[1;32m    770\u001b[0m         \u001b[0;31m# Epochs only apply to `fit`.\u001b[0m\u001b[0;34m\u001b[0m\u001b[0;34m\u001b[0m\u001b[0;34m\u001b[0m\u001b[0m\n\u001b[0;32m--> 771\u001b[0;31m         \u001b[0mself\u001b[0m\u001b[0;34m.\u001b[0m\u001b[0mcallbacks\u001b[0m\u001b[0;34m.\u001b[0m\u001b[0mon_epoch_end\u001b[0m\u001b[0;34m(\u001b[0m\u001b[0mepoch\u001b[0m\u001b[0;34m,\u001b[0m \u001b[0mepoch_logs\u001b[0m\u001b[0;34m)\u001b[0m\u001b[0;34m\u001b[0m\u001b[0;34m\u001b[0m\u001b[0m\n\u001b[0m\u001b[1;32m    772\u001b[0m       \u001b[0mself\u001b[0m\u001b[0;34m.\u001b[0m\u001b[0mprogbar\u001b[0m\u001b[0;34m.\u001b[0m\u001b[0mon_epoch_end\u001b[0m\u001b[0;34m(\u001b[0m\u001b[0mepoch\u001b[0m\u001b[0;34m,\u001b[0m \u001b[0mepoch_logs\u001b[0m\u001b[0;34m)\u001b[0m\u001b[0;34m\u001b[0m\u001b[0;34m\u001b[0m\u001b[0m\n\u001b[1;32m    773\u001b[0m \u001b[0;34m\u001b[0m\u001b[0m\n",
            "\u001b[0;32m/usr/local/lib/python3.6/dist-packages/tensorflow_core/python/keras/callbacks.py\u001b[0m in \u001b[0;36mon_epoch_end\u001b[0;34m(self, epoch, logs)\u001b[0m\n\u001b[1;32m    300\u001b[0m     \u001b[0mlogs\u001b[0m \u001b[0;34m=\u001b[0m \u001b[0mlogs\u001b[0m \u001b[0;32mor\u001b[0m \u001b[0;34m{\u001b[0m\u001b[0;34m}\u001b[0m\u001b[0;34m\u001b[0m\u001b[0;34m\u001b[0m\u001b[0m\n\u001b[1;32m    301\u001b[0m     \u001b[0;32mfor\u001b[0m \u001b[0mcallback\u001b[0m \u001b[0;32min\u001b[0m \u001b[0mself\u001b[0m\u001b[0;34m.\u001b[0m\u001b[0mcallbacks\u001b[0m\u001b[0;34m:\u001b[0m\u001b[0;34m\u001b[0m\u001b[0;34m\u001b[0m\u001b[0m\n\u001b[0;32m--> 302\u001b[0;31m       \u001b[0mcallback\u001b[0m\u001b[0;34m.\u001b[0m\u001b[0mon_epoch_end\u001b[0m\u001b[0;34m(\u001b[0m\u001b[0mepoch\u001b[0m\u001b[0;34m,\u001b[0m \u001b[0mlogs\u001b[0m\u001b[0;34m)\u001b[0m\u001b[0;34m\u001b[0m\u001b[0;34m\u001b[0m\u001b[0m\n\u001b[0m\u001b[1;32m    303\u001b[0m \u001b[0;34m\u001b[0m\u001b[0m\n\u001b[1;32m    304\u001b[0m   \u001b[0;32mdef\u001b[0m \u001b[0mon_train_batch_begin\u001b[0m\u001b[0;34m(\u001b[0m\u001b[0mself\u001b[0m\u001b[0;34m,\u001b[0m \u001b[0mbatch\u001b[0m\u001b[0;34m,\u001b[0m \u001b[0mlogs\u001b[0m\u001b[0;34m=\u001b[0m\u001b[0;32mNone\u001b[0m\u001b[0;34m)\u001b[0m\u001b[0;34m:\u001b[0m\u001b[0;34m\u001b[0m\u001b[0;34m\u001b[0m\u001b[0m\n",
            "\u001b[0;32m/usr/local/lib/python3.6/dist-packages/tensorflow_core/python/keras/callbacks.py\u001b[0m in \u001b[0;36mon_epoch_end\u001b[0;34m(self, epoch, logs)\u001b[0m\n\u001b[1;32m    990\u001b[0m           \u001b[0mself\u001b[0m\u001b[0;34m.\u001b[0m\u001b[0m_save_model\u001b[0m\u001b[0;34m(\u001b[0m\u001b[0mepoch\u001b[0m\u001b[0;34m=\u001b[0m\u001b[0mepoch\u001b[0m\u001b[0;34m,\u001b[0m \u001b[0mlogs\u001b[0m\u001b[0;34m=\u001b[0m\u001b[0mlogs\u001b[0m\u001b[0;34m)\u001b[0m\u001b[0;34m\u001b[0m\u001b[0;34m\u001b[0m\u001b[0m\n\u001b[1;32m    991\u001b[0m       \u001b[0;32melse\u001b[0m\u001b[0;34m:\u001b[0m\u001b[0;34m\u001b[0m\u001b[0;34m\u001b[0m\u001b[0m\n\u001b[0;32m--> 992\u001b[0;31m         \u001b[0mself\u001b[0m\u001b[0;34m.\u001b[0m\u001b[0m_save_model\u001b[0m\u001b[0;34m(\u001b[0m\u001b[0mepoch\u001b[0m\u001b[0;34m=\u001b[0m\u001b[0mepoch\u001b[0m\u001b[0;34m,\u001b[0m \u001b[0mlogs\u001b[0m\u001b[0;34m=\u001b[0m\u001b[0mlogs\u001b[0m\u001b[0;34m)\u001b[0m\u001b[0;34m\u001b[0m\u001b[0;34m\u001b[0m\u001b[0m\n\u001b[0m\u001b[1;32m    993\u001b[0m     \u001b[0;32mif\u001b[0m \u001b[0mself\u001b[0m\u001b[0;34m.\u001b[0m\u001b[0mmodel\u001b[0m\u001b[0;34m.\u001b[0m\u001b[0m_in_multi_worker_mode\u001b[0m\u001b[0;34m(\u001b[0m\u001b[0;34m)\u001b[0m\u001b[0;34m:\u001b[0m\u001b[0;34m\u001b[0m\u001b[0;34m\u001b[0m\u001b[0m\n\u001b[1;32m    994\u001b[0m       \u001b[0;31m# For multi-worker training, back up the weights and current training\u001b[0m\u001b[0;34m\u001b[0m\u001b[0;34m\u001b[0m\u001b[0;34m\u001b[0m\u001b[0m\n",
            "\u001b[0;32m/usr/local/lib/python3.6/dist-packages/tensorflow_core/python/keras/callbacks.py\u001b[0m in \u001b[0;36m_save_model\u001b[0;34m(self, epoch, logs)\u001b[0m\n\u001b[1;32m   1009\u001b[0m                   int) or self.epochs_since_last_save >= self.period:\n\u001b[1;32m   1010\u001b[0m       \u001b[0mself\u001b[0m\u001b[0;34m.\u001b[0m\u001b[0mepochs_since_last_save\u001b[0m \u001b[0;34m=\u001b[0m \u001b[0;36m0\u001b[0m\u001b[0;34m\u001b[0m\u001b[0;34m\u001b[0m\u001b[0m\n\u001b[0;32m-> 1011\u001b[0;31m       \u001b[0mfilepath\u001b[0m \u001b[0;34m=\u001b[0m \u001b[0mself\u001b[0m\u001b[0;34m.\u001b[0m\u001b[0m_get_file_path\u001b[0m\u001b[0;34m(\u001b[0m\u001b[0mepoch\u001b[0m\u001b[0;34m,\u001b[0m \u001b[0mlogs\u001b[0m\u001b[0;34m)\u001b[0m\u001b[0;34m\u001b[0m\u001b[0;34m\u001b[0m\u001b[0m\n\u001b[0m\u001b[1;32m   1012\u001b[0m \u001b[0;34m\u001b[0m\u001b[0m\n\u001b[1;32m   1013\u001b[0m       \u001b[0;32mtry\u001b[0m\u001b[0;34m:\u001b[0m\u001b[0;34m\u001b[0m\u001b[0;34m\u001b[0m\u001b[0m\n",
            "\u001b[0;32m/usr/local/lib/python3.6/dist-packages/tensorflow_core/python/keras/callbacks.py\u001b[0m in \u001b[0;36m_get_file_path\u001b[0;34m(self, epoch, logs)\u001b[0m\n\u001b[1;32m   1053\u001b[0m     if not self.model._in_multi_worker_mode(\n\u001b[1;32m   1054\u001b[0m     ) or multi_worker_util.should_save_checkpoint():\n\u001b[0;32m-> 1055\u001b[0;31m       \u001b[0;32mreturn\u001b[0m \u001b[0mself\u001b[0m\u001b[0;34m.\u001b[0m\u001b[0mfilepath\u001b[0m\u001b[0;34m.\u001b[0m\u001b[0mformat\u001b[0m\u001b[0;34m(\u001b[0m\u001b[0mepoch\u001b[0m\u001b[0;34m=\u001b[0m\u001b[0mepoch\u001b[0m \u001b[0;34m+\u001b[0m \u001b[0;36m1\u001b[0m\u001b[0;34m,\u001b[0m \u001b[0;34m**\u001b[0m\u001b[0mlogs\u001b[0m\u001b[0;34m)\u001b[0m\u001b[0;34m\u001b[0m\u001b[0;34m\u001b[0m\u001b[0m\n\u001b[0m\u001b[1;32m   1056\u001b[0m     \u001b[0;32melse\u001b[0m\u001b[0;34m:\u001b[0m\u001b[0;34m\u001b[0m\u001b[0;34m\u001b[0m\u001b[0m\n\u001b[1;32m   1057\u001b[0m       \u001b[0;31m# If this is multi-worker training, and this worker should not\u001b[0m\u001b[0;34m\u001b[0m\u001b[0;34m\u001b[0m\u001b[0;34m\u001b[0m\u001b[0m\n",
            "\u001b[0;31mKeyError\u001b[0m: 'val_accuracy'"
          ]
        }
      ]
    },
    {
      "cell_type": "code",
      "metadata": {
        "id": "0RAR-lXQdlyP",
        "colab_type": "code",
        "colab": {}
      },
      "source": [
        "model.load_weights(\"/content/drive/My Drive/Casia/Casia2/weights.186-0.8297.h5\")"
      ],
      "execution_count": 0,
      "outputs": []
    },
    {
      "cell_type": "code",
      "metadata": {
        "id": "wy9Iw1_neLbc",
        "colab_type": "code",
        "colab": {}
      },
      "source": [
        "X_au_test = np.load(DATA_PATH + \"X_au_test.npy\")\n",
        "X_tp_test = np.load(DATA_PATH + \"X_tp_test.npy\")\n",
        "X_au_train = np.load(DATA_PATH + \"X_au_train.npy\")\n",
        "X_tp_train = np.load(DATA_PATH + \"X_tp_train.npy\")"
      ],
      "execution_count": 0,
      "outputs": []
    },
    {
      "cell_type": "code",
      "metadata": {
        "id": "1Wp7sdW3xa9G",
        "colab_type": "code",
        "colab": {}
      },
      "source": [
        "def img2batch(arr,shape=(32,32)):\n",
        "\n",
        "  nrows, ncols = shape\n",
        "  batches = []\n",
        "  dim = len(arr.shape)\n",
        "  if dim == 3:\n",
        "    h, w,_ = arr.shape\n",
        "  elif dim ==2:\n",
        "    h, w = arr.shape\n",
        "\n",
        "  assert h % nrows == 0, \"{} rows is not evenly divisble by {}\".format(h, nrows)\n",
        "  assert w % ncols == 0, \"{} cols is not evenly divisble by {}\".format(w, ncols)\n",
        "\n",
        "\n",
        "  for r in range(h//nrows):\n",
        "    for c in range(w//ncols):\n",
        "      from_r = r*nrows\n",
        "      to_r = (r+1)*nrows\n",
        "      from_c = c*ncols\n",
        "      to_c =(c+1)*ncols\n",
        "      if dim == 3:\n",
        "        batches.append(arr[from_r:to_r,from_c:to_c,:])\n",
        "      elif dim==2:\n",
        "        batches.append(arr[from_r:to_r,from_c:to_c])\n",
        "\n",
        "  return batches"
      ],
      "execution_count": 0,
      "outputs": []
    },
    {
      "cell_type": "markdown",
      "metadata": {
        "id": "LDvhnjCWi8uZ",
        "colab_type": "text"
      },
      "source": [
        ""
      ]
    },
    {
      "cell_type": "markdown",
      "metadata": {
        "id": "PpcxtCZVi8p-",
        "colab_type": "text"
      },
      "source": [
        ""
      ]
    },
    {
      "cell_type": "code",
      "metadata": {
        "id": "4vhfbK8PfpzT",
        "colab_type": "code",
        "outputId": "c5c01809-e9dd-4253-8026-1b328d8db62a",
        "colab": {
          "base_uri": "https://localhost:8080/",
          "height": 1000
        }
      },
      "source": [
        "idx = 20\n",
        "\n",
        "batches = img2batch(X_au_test[idx])\n",
        "label = []\n",
        "for batch in batches:\n",
        "  feature = np.array(extract_features(batch))\n",
        "  feature = np.expand_dims(feature,0)\n",
        "  feature = scaler_obj.transform(feature)\n",
        "  label.append(model.predict(feature)[0][0])"
      ],
      "execution_count": 0,
      "outputs": [
        {
          "output_type": "stream",
          "text": [
            "/usr/local/lib/python3.6/dist-packages/pywt/_multilevel.py:45: UserWarning: Level value of 3 is too high: all coefficients will experience boundary effects.\n",
            "  \"boundary effects.\").format(level))\n",
            "/usr/local/lib/python3.6/dist-packages/pywt/_multilevel.py:45: UserWarning: Level value of 3 is too high: all coefficients will experience boundary effects.\n",
            "  \"boundary effects.\").format(level))\n",
            "/usr/local/lib/python3.6/dist-packages/pywt/_multilevel.py:45: UserWarning: Level value of 3 is too high: all coefficients will experience boundary effects.\n",
            "  \"boundary effects.\").format(level))\n",
            "/usr/local/lib/python3.6/dist-packages/pywt/_multilevel.py:45: UserWarning: Level value of 3 is too high: all coefficients will experience boundary effects.\n",
            "  \"boundary effects.\").format(level))\n",
            "/usr/local/lib/python3.6/dist-packages/pywt/_multilevel.py:45: UserWarning: Level value of 3 is too high: all coefficients will experience boundary effects.\n",
            "  \"boundary effects.\").format(level))\n",
            "/usr/local/lib/python3.6/dist-packages/pywt/_multilevel.py:45: UserWarning: Level value of 3 is too high: all coefficients will experience boundary effects.\n",
            "  \"boundary effects.\").format(level))\n",
            "/usr/local/lib/python3.6/dist-packages/pywt/_multilevel.py:45: UserWarning: Level value of 3 is too high: all coefficients will experience boundary effects.\n",
            "  \"boundary effects.\").format(level))\n",
            "/usr/local/lib/python3.6/dist-packages/pywt/_multilevel.py:45: UserWarning: Level value of 3 is too high: all coefficients will experience boundary effects.\n",
            "  \"boundary effects.\").format(level))\n",
            "/usr/local/lib/python3.6/dist-packages/pywt/_multilevel.py:45: UserWarning: Level value of 3 is too high: all coefficients will experience boundary effects.\n",
            "  \"boundary effects.\").format(level))\n",
            "/usr/local/lib/python3.6/dist-packages/pywt/_multilevel.py:45: UserWarning: Level value of 3 is too high: all coefficients will experience boundary effects.\n",
            "  \"boundary effects.\").format(level))\n",
            "/usr/local/lib/python3.6/dist-packages/pywt/_multilevel.py:45: UserWarning: Level value of 3 is too high: all coefficients will experience boundary effects.\n",
            "  \"boundary effects.\").format(level))\n",
            "/usr/local/lib/python3.6/dist-packages/pywt/_multilevel.py:45: UserWarning: Level value of 3 is too high: all coefficients will experience boundary effects.\n",
            "  \"boundary effects.\").format(level))\n",
            "/usr/local/lib/python3.6/dist-packages/pywt/_multilevel.py:45: UserWarning: Level value of 3 is too high: all coefficients will experience boundary effects.\n",
            "  \"boundary effects.\").format(level))\n",
            "/usr/local/lib/python3.6/dist-packages/pywt/_multilevel.py:45: UserWarning: Level value of 3 is too high: all coefficients will experience boundary effects.\n",
            "  \"boundary effects.\").format(level))\n",
            "/usr/local/lib/python3.6/dist-packages/pywt/_multilevel.py:45: UserWarning: Level value of 3 is too high: all coefficients will experience boundary effects.\n",
            "  \"boundary effects.\").format(level))\n",
            "/usr/local/lib/python3.6/dist-packages/pywt/_multilevel.py:45: UserWarning: Level value of 3 is too high: all coefficients will experience boundary effects.\n",
            "  \"boundary effects.\").format(level))\n",
            "/usr/local/lib/python3.6/dist-packages/pywt/_multilevel.py:45: UserWarning: Level value of 3 is too high: all coefficients will experience boundary effects.\n",
            "  \"boundary effects.\").format(level))\n",
            "/usr/local/lib/python3.6/dist-packages/pywt/_multilevel.py:45: UserWarning: Level value of 3 is too high: all coefficients will experience boundary effects.\n",
            "  \"boundary effects.\").format(level))\n",
            "/usr/local/lib/python3.6/dist-packages/pywt/_multilevel.py:45: UserWarning: Level value of 3 is too high: all coefficients will experience boundary effects.\n",
            "  \"boundary effects.\").format(level))\n",
            "/usr/local/lib/python3.6/dist-packages/pywt/_multilevel.py:45: UserWarning: Level value of 3 is too high: all coefficients will experience boundary effects.\n",
            "  \"boundary effects.\").format(level))\n",
            "/usr/local/lib/python3.6/dist-packages/pywt/_multilevel.py:45: UserWarning: Level value of 3 is too high: all coefficients will experience boundary effects.\n",
            "  \"boundary effects.\").format(level))\n",
            "/usr/local/lib/python3.6/dist-packages/pywt/_multilevel.py:45: UserWarning: Level value of 3 is too high: all coefficients will experience boundary effects.\n",
            "  \"boundary effects.\").format(level))\n",
            "/usr/local/lib/python3.6/dist-packages/pywt/_multilevel.py:45: UserWarning: Level value of 3 is too high: all coefficients will experience boundary effects.\n",
            "  \"boundary effects.\").format(level))\n",
            "/usr/local/lib/python3.6/dist-packages/pywt/_multilevel.py:45: UserWarning: Level value of 3 is too high: all coefficients will experience boundary effects.\n",
            "  \"boundary effects.\").format(level))\n",
            "/usr/local/lib/python3.6/dist-packages/pywt/_multilevel.py:45: UserWarning: Level value of 3 is too high: all coefficients will experience boundary effects.\n",
            "  \"boundary effects.\").format(level))\n",
            "/usr/local/lib/python3.6/dist-packages/pywt/_multilevel.py:45: UserWarning: Level value of 3 is too high: all coefficients will experience boundary effects.\n",
            "  \"boundary effects.\").format(level))\n",
            "/usr/local/lib/python3.6/dist-packages/pywt/_multilevel.py:45: UserWarning: Level value of 3 is too high: all coefficients will experience boundary effects.\n",
            "  \"boundary effects.\").format(level))\n",
            "/usr/local/lib/python3.6/dist-packages/pywt/_multilevel.py:45: UserWarning: Level value of 3 is too high: all coefficients will experience boundary effects.\n",
            "  \"boundary effects.\").format(level))\n",
            "/usr/local/lib/python3.6/dist-packages/pywt/_multilevel.py:45: UserWarning: Level value of 3 is too high: all coefficients will experience boundary effects.\n",
            "  \"boundary effects.\").format(level))\n",
            "/usr/local/lib/python3.6/dist-packages/pywt/_multilevel.py:45: UserWarning: Level value of 3 is too high: all coefficients will experience boundary effects.\n",
            "  \"boundary effects.\").format(level))\n",
            "/usr/local/lib/python3.6/dist-packages/pywt/_multilevel.py:45: UserWarning: Level value of 3 is too high: all coefficients will experience boundary effects.\n",
            "  \"boundary effects.\").format(level))\n",
            "/usr/local/lib/python3.6/dist-packages/pywt/_multilevel.py:45: UserWarning: Level value of 3 is too high: all coefficients will experience boundary effects.\n",
            "  \"boundary effects.\").format(level))\n",
            "/usr/local/lib/python3.6/dist-packages/pywt/_multilevel.py:45: UserWarning: Level value of 3 is too high: all coefficients will experience boundary effects.\n",
            "  \"boundary effects.\").format(level))\n",
            "/usr/local/lib/python3.6/dist-packages/pywt/_multilevel.py:45: UserWarning: Level value of 3 is too high: all coefficients will experience boundary effects.\n",
            "  \"boundary effects.\").format(level))\n",
            "/usr/local/lib/python3.6/dist-packages/pywt/_multilevel.py:45: UserWarning: Level value of 3 is too high: all coefficients will experience boundary effects.\n",
            "  \"boundary effects.\").format(level))\n",
            "/usr/local/lib/python3.6/dist-packages/pywt/_multilevel.py:45: UserWarning: Level value of 3 is too high: all coefficients will experience boundary effects.\n",
            "  \"boundary effects.\").format(level))\n",
            "/usr/local/lib/python3.6/dist-packages/pywt/_multilevel.py:45: UserWarning: Level value of 3 is too high: all coefficients will experience boundary effects.\n",
            "  \"boundary effects.\").format(level))\n",
            "/usr/local/lib/python3.6/dist-packages/pywt/_multilevel.py:45: UserWarning: Level value of 3 is too high: all coefficients will experience boundary effects.\n",
            "  \"boundary effects.\").format(level))\n",
            "/usr/local/lib/python3.6/dist-packages/pywt/_multilevel.py:45: UserWarning: Level value of 3 is too high: all coefficients will experience boundary effects.\n",
            "  \"boundary effects.\").format(level))\n",
            "/usr/local/lib/python3.6/dist-packages/pywt/_multilevel.py:45: UserWarning: Level value of 3 is too high: all coefficients will experience boundary effects.\n",
            "  \"boundary effects.\").format(level))\n",
            "/usr/local/lib/python3.6/dist-packages/pywt/_multilevel.py:45: UserWarning: Level value of 3 is too high: all coefficients will experience boundary effects.\n",
            "  \"boundary effects.\").format(level))\n",
            "/usr/local/lib/python3.6/dist-packages/pywt/_multilevel.py:45: UserWarning: Level value of 3 is too high: all coefficients will experience boundary effects.\n",
            "  \"boundary effects.\").format(level))\n",
            "/usr/local/lib/python3.6/dist-packages/pywt/_multilevel.py:45: UserWarning: Level value of 3 is too high: all coefficients will experience boundary effects.\n",
            "  \"boundary effects.\").format(level))\n",
            "/usr/local/lib/python3.6/dist-packages/pywt/_multilevel.py:45: UserWarning: Level value of 3 is too high: all coefficients will experience boundary effects.\n",
            "  \"boundary effects.\").format(level))\n",
            "/usr/local/lib/python3.6/dist-packages/pywt/_multilevel.py:45: UserWarning: Level value of 3 is too high: all coefficients will experience boundary effects.\n",
            "  \"boundary effects.\").format(level))\n",
            "/usr/local/lib/python3.6/dist-packages/pywt/_multilevel.py:45: UserWarning: Level value of 3 is too high: all coefficients will experience boundary effects.\n",
            "  \"boundary effects.\").format(level))\n",
            "/usr/local/lib/python3.6/dist-packages/pywt/_multilevel.py:45: UserWarning: Level value of 3 is too high: all coefficients will experience boundary effects.\n",
            "  \"boundary effects.\").format(level))\n",
            "/usr/local/lib/python3.6/dist-packages/pywt/_multilevel.py:45: UserWarning: Level value of 3 is too high: all coefficients will experience boundary effects.\n",
            "  \"boundary effects.\").format(level))\n",
            "/usr/local/lib/python3.6/dist-packages/pywt/_multilevel.py:45: UserWarning: Level value of 3 is too high: all coefficients will experience boundary effects.\n",
            "  \"boundary effects.\").format(level))\n",
            "/usr/local/lib/python3.6/dist-packages/pywt/_multilevel.py:45: UserWarning: Level value of 3 is too high: all coefficients will experience boundary effects.\n",
            "  \"boundary effects.\").format(level))\n",
            "/usr/local/lib/python3.6/dist-packages/pywt/_multilevel.py:45: UserWarning: Level value of 3 is too high: all coefficients will experience boundary effects.\n",
            "  \"boundary effects.\").format(level))\n",
            "/usr/local/lib/python3.6/dist-packages/pywt/_multilevel.py:45: UserWarning: Level value of 3 is too high: all coefficients will experience boundary effects.\n",
            "  \"boundary effects.\").format(level))\n",
            "/usr/local/lib/python3.6/dist-packages/pywt/_multilevel.py:45: UserWarning: Level value of 3 is too high: all coefficients will experience boundary effects.\n",
            "  \"boundary effects.\").format(level))\n",
            "/usr/local/lib/python3.6/dist-packages/pywt/_multilevel.py:45: UserWarning: Level value of 3 is too high: all coefficients will experience boundary effects.\n",
            "  \"boundary effects.\").format(level))\n",
            "/usr/local/lib/python3.6/dist-packages/pywt/_multilevel.py:45: UserWarning: Level value of 3 is too high: all coefficients will experience boundary effects.\n",
            "  \"boundary effects.\").format(level))\n",
            "/usr/local/lib/python3.6/dist-packages/pywt/_multilevel.py:45: UserWarning: Level value of 3 is too high: all coefficients will experience boundary effects.\n",
            "  \"boundary effects.\").format(level))\n",
            "/usr/local/lib/python3.6/dist-packages/pywt/_multilevel.py:45: UserWarning: Level value of 3 is too high: all coefficients will experience boundary effects.\n",
            "  \"boundary effects.\").format(level))\n",
            "/usr/local/lib/python3.6/dist-packages/pywt/_multilevel.py:45: UserWarning: Level value of 3 is too high: all coefficients will experience boundary effects.\n",
            "  \"boundary effects.\").format(level))\n",
            "/usr/local/lib/python3.6/dist-packages/pywt/_multilevel.py:45: UserWarning: Level value of 3 is too high: all coefficients will experience boundary effects.\n",
            "  \"boundary effects.\").format(level))\n",
            "/usr/local/lib/python3.6/dist-packages/pywt/_multilevel.py:45: UserWarning: Level value of 3 is too high: all coefficients will experience boundary effects.\n",
            "  \"boundary effects.\").format(level))\n",
            "/usr/local/lib/python3.6/dist-packages/pywt/_multilevel.py:45: UserWarning: Level value of 3 is too high: all coefficients will experience boundary effects.\n",
            "  \"boundary effects.\").format(level))\n",
            "/usr/local/lib/python3.6/dist-packages/pywt/_multilevel.py:45: UserWarning: Level value of 3 is too high: all coefficients will experience boundary effects.\n",
            "  \"boundary effects.\").format(level))\n",
            "/usr/local/lib/python3.6/dist-packages/pywt/_multilevel.py:45: UserWarning: Level value of 3 is too high: all coefficients will experience boundary effects.\n",
            "  \"boundary effects.\").format(level))\n",
            "/usr/local/lib/python3.6/dist-packages/pywt/_multilevel.py:45: UserWarning: Level value of 3 is too high: all coefficients will experience boundary effects.\n",
            "  \"boundary effects.\").format(level))\n",
            "/usr/local/lib/python3.6/dist-packages/pywt/_multilevel.py:45: UserWarning: Level value of 3 is too high: all coefficients will experience boundary effects.\n",
            "  \"boundary effects.\").format(level))\n",
            "/usr/local/lib/python3.6/dist-packages/pywt/_multilevel.py:45: UserWarning: Level value of 3 is too high: all coefficients will experience boundary effects.\n",
            "  \"boundary effects.\").format(level))\n",
            "/usr/local/lib/python3.6/dist-packages/pywt/_multilevel.py:45: UserWarning: Level value of 3 is too high: all coefficients will experience boundary effects.\n",
            "  \"boundary effects.\").format(level))\n",
            "/usr/local/lib/python3.6/dist-packages/pywt/_multilevel.py:45: UserWarning: Level value of 3 is too high: all coefficients will experience boundary effects.\n",
            "  \"boundary effects.\").format(level))\n",
            "/usr/local/lib/python3.6/dist-packages/pywt/_multilevel.py:45: UserWarning: Level value of 3 is too high: all coefficients will experience boundary effects.\n",
            "  \"boundary effects.\").format(level))\n",
            "/usr/local/lib/python3.6/dist-packages/pywt/_multilevel.py:45: UserWarning: Level value of 3 is too high: all coefficients will experience boundary effects.\n",
            "  \"boundary effects.\").format(level))\n",
            "/usr/local/lib/python3.6/dist-packages/pywt/_multilevel.py:45: UserWarning: Level value of 3 is too high: all coefficients will experience boundary effects.\n",
            "  \"boundary effects.\").format(level))\n",
            "/usr/local/lib/python3.6/dist-packages/pywt/_multilevel.py:45: UserWarning: Level value of 3 is too high: all coefficients will experience boundary effects.\n",
            "  \"boundary effects.\").format(level))\n",
            "/usr/local/lib/python3.6/dist-packages/pywt/_multilevel.py:45: UserWarning: Level value of 3 is too high: all coefficients will experience boundary effects.\n",
            "  \"boundary effects.\").format(level))\n",
            "/usr/local/lib/python3.6/dist-packages/pywt/_multilevel.py:45: UserWarning: Level value of 3 is too high: all coefficients will experience boundary effects.\n",
            "  \"boundary effects.\").format(level))\n",
            "/usr/local/lib/python3.6/dist-packages/pywt/_multilevel.py:45: UserWarning: Level value of 3 is too high: all coefficients will experience boundary effects.\n",
            "  \"boundary effects.\").format(level))\n",
            "/usr/local/lib/python3.6/dist-packages/pywt/_multilevel.py:45: UserWarning: Level value of 3 is too high: all coefficients will experience boundary effects.\n",
            "  \"boundary effects.\").format(level))\n",
            "/usr/local/lib/python3.6/dist-packages/pywt/_multilevel.py:45: UserWarning: Level value of 3 is too high: all coefficients will experience boundary effects.\n",
            "  \"boundary effects.\").format(level))\n",
            "/usr/local/lib/python3.6/dist-packages/pywt/_multilevel.py:45: UserWarning: Level value of 3 is too high: all coefficients will experience boundary effects.\n",
            "  \"boundary effects.\").format(level))\n",
            "/usr/local/lib/python3.6/dist-packages/pywt/_multilevel.py:45: UserWarning: Level value of 3 is too high: all coefficients will experience boundary effects.\n",
            "  \"boundary effects.\").format(level))\n",
            "/usr/local/lib/python3.6/dist-packages/pywt/_multilevel.py:45: UserWarning: Level value of 3 is too high: all coefficients will experience boundary effects.\n",
            "  \"boundary effects.\").format(level))\n",
            "/usr/local/lib/python3.6/dist-packages/pywt/_multilevel.py:45: UserWarning: Level value of 3 is too high: all coefficients will experience boundary effects.\n",
            "  \"boundary effects.\").format(level))\n",
            "/usr/local/lib/python3.6/dist-packages/pywt/_multilevel.py:45: UserWarning: Level value of 3 is too high: all coefficients will experience boundary effects.\n",
            "  \"boundary effects.\").format(level))\n",
            "/usr/local/lib/python3.6/dist-packages/pywt/_multilevel.py:45: UserWarning: Level value of 3 is too high: all coefficients will experience boundary effects.\n",
            "  \"boundary effects.\").format(level))\n",
            "/usr/local/lib/python3.6/dist-packages/pywt/_multilevel.py:45: UserWarning: Level value of 3 is too high: all coefficients will experience boundary effects.\n",
            "  \"boundary effects.\").format(level))\n",
            "/usr/local/lib/python3.6/dist-packages/pywt/_multilevel.py:45: UserWarning: Level value of 3 is too high: all coefficients will experience boundary effects.\n",
            "  \"boundary effects.\").format(level))\n",
            "/usr/local/lib/python3.6/dist-packages/pywt/_multilevel.py:45: UserWarning: Level value of 3 is too high: all coefficients will experience boundary effects.\n",
            "  \"boundary effects.\").format(level))\n",
            "/usr/local/lib/python3.6/dist-packages/pywt/_multilevel.py:45: UserWarning: Level value of 3 is too high: all coefficients will experience boundary effects.\n",
            "  \"boundary effects.\").format(level))\n",
            "/usr/local/lib/python3.6/dist-packages/pywt/_multilevel.py:45: UserWarning: Level value of 3 is too high: all coefficients will experience boundary effects.\n",
            "  \"boundary effects.\").format(level))\n",
            "/usr/local/lib/python3.6/dist-packages/pywt/_multilevel.py:45: UserWarning: Level value of 3 is too high: all coefficients will experience boundary effects.\n",
            "  \"boundary effects.\").format(level))\n",
            "/usr/local/lib/python3.6/dist-packages/pywt/_multilevel.py:45: UserWarning: Level value of 3 is too high: all coefficients will experience boundary effects.\n",
            "  \"boundary effects.\").format(level))\n",
            "/usr/local/lib/python3.6/dist-packages/pywt/_multilevel.py:45: UserWarning: Level value of 3 is too high: all coefficients will experience boundary effects.\n",
            "  \"boundary effects.\").format(level))\n",
            "/usr/local/lib/python3.6/dist-packages/pywt/_multilevel.py:45: UserWarning: Level value of 3 is too high: all coefficients will experience boundary effects.\n",
            "  \"boundary effects.\").format(level))\n",
            "/usr/local/lib/python3.6/dist-packages/pywt/_multilevel.py:45: UserWarning: Level value of 3 is too high: all coefficients will experience boundary effects.\n",
            "  \"boundary effects.\").format(level))\n",
            "/usr/local/lib/python3.6/dist-packages/pywt/_multilevel.py:45: UserWarning: Level value of 3 is too high: all coefficients will experience boundary effects.\n",
            "  \"boundary effects.\").format(level))\n",
            "/usr/local/lib/python3.6/dist-packages/pywt/_multilevel.py:45: UserWarning: Level value of 3 is too high: all coefficients will experience boundary effects.\n",
            "  \"boundary effects.\").format(level))\n",
            "/usr/local/lib/python3.6/dist-packages/pywt/_multilevel.py:45: UserWarning: Level value of 3 is too high: all coefficients will experience boundary effects.\n",
            "  \"boundary effects.\").format(level))\n"
          ],
          "name": "stderr"
        }
      ]
    },
    {
      "cell_type": "code",
      "metadata": {
        "id": "MwHQRvIyyn8h",
        "colab_type": "code",
        "colab": {}
      },
      "source": [
        "thresh = 0.5\n",
        "label = (np.array(label)>thresh)*1"
      ],
      "execution_count": 0,
      "outputs": []
    },
    {
      "cell_type": "code",
      "metadata": {
        "id": "b_-E2tROi9N7",
        "colab_type": "code",
        "outputId": "b50bf0e0-44ce-48b7-81f2-9ceec90bc7b5",
        "colab": {
          "base_uri": "https://localhost:8080/",
          "height": 35
        }
      },
      "source": [
        "import collections\n",
        "collections.Counter(label)"
      ],
      "execution_count": 0,
      "outputs": [
        {
          "output_type": "execute_result",
          "data": {
            "text/plain": [
              "Counter({0: 96})"
            ]
          },
          "metadata": {
            "tags": []
          },
          "execution_count": 67
        }
      ]
    },
    {
      "cell_type": "code",
      "metadata": {
        "id": "ykUHXKHGxd2i",
        "colab_type": "code",
        "colab": {}
      },
      "source": [
        "def pkl_save(obj,path):\n",
        "  import pickle\n",
        "  with open(path, 'wb') as fp:\n",
        "    pickle.dump(obj, fp)\n",
        "def pkl_load(path):\n",
        "  import pickle\n",
        "  with open(path, 'rb') as fp:\n",
        "    obj = pickle.load(fp)\n",
        "  return obj"
      ],
      "execution_count": 0,
      "outputs": []
    },
    {
      "cell_type": "code",
      "metadata": {
        "id": "OzSoQVjyxmGj",
        "colab_type": "code",
        "colab": {}
      },
      "source": [
        "pkl_save(scaler_obj,\"scaler_obj.pkl\")"
      ],
      "execution_count": 0,
      "outputs": []
    },
    {
      "cell_type": "code",
      "metadata": {
        "id": "Fvi04y3B0KZ0",
        "colab_type": "code",
        "colab": {}
      },
      "source": [
        "hey = pkl_load(DATA_PATH+ \"scaler_obj.pkl\")"
      ],
      "execution_count": 0,
      "outputs": []
    },
    {
      "cell_type": "code",
      "metadata": {
        "id": "ihPXonT70NpU",
        "colab_type": "code",
        "outputId": "8e29ad6d-d9ad-4c1d-f3ed-187fca8e5b32",
        "colab": {
          "base_uri": "https://localhost:8080/",
          "height": 35
        }
      },
      "source": [
        "max"
      ],
      "execution_count": 0,
      "outputs": [
        {
          "output_type": "execute_result",
          "data": {
            "text/plain": [
              "<function max>"
            ]
          },
          "metadata": {
            "tags": []
          },
          "execution_count": 19
        }
      ]
    },
    {
      "cell_type": "code",
      "metadata": {
        "id": "V8EWOsUhIvK-",
        "colab_type": "code",
        "outputId": "b38537f5-ec0b-414a-b665-a6845fc2e9a2",
        "colab": {
          "base_uri": "https://localhost:8080/",
          "height": 35
        }
      },
      "source": [
        "scaler_obj.min_.shape"
      ],
      "execution_count": 0,
      "outputs": [
        {
          "output_type": "execute_result",
          "data": {
            "text/plain": [
              "(300,)"
            ]
          },
          "metadata": {
            "tags": []
          },
          "execution_count": 21
        }
      ]
    },
    {
      "cell_type": "code",
      "metadata": {
        "id": "6n2uW_SAIytL",
        "colab_type": "code",
        "outputId": "add13b98-4099-4d58-ad54-96f1b5180e62",
        "colab": {
          "base_uri": "https://localhost:8080/",
          "height": 35
        }
      },
      "source": [
        "scaler_obj.data_max_.shape"
      ],
      "execution_count": 0,
      "outputs": [
        {
          "output_type": "execute_result",
          "data": {
            "text/plain": [
              "(300,)"
            ]
          },
          "metadata": {
            "tags": []
          },
          "execution_count": 24
        }
      ]
    },
    {
      "cell_type": "code",
      "metadata": {
        "id": "FggAXpy3I1_I",
        "colab_type": "code",
        "colab": {}
      },
      "source": [
        "min_ = np.expand_dims(scaler_obj.data_min_,0)\n",
        "max_ = np.expand_dims(scaler_obj.data_max_,0)\n",
        "np.save(\"min_data.npy\",min_)\n",
        "np.save(\"max_data.npy\",max_)"
      ],
      "execution_count": 0,
      "outputs": []
    },
    {
      "cell_type": "code",
      "metadata": {
        "id": "NWhG4q5kJX8P",
        "colab_type": "code",
        "colab": {}
      },
      "source": [
        "X_wt_scaled_2 = (X_wt - min_)/(max_-min_)"
      ],
      "execution_count": 0,
      "outputs": []
    },
    {
      "cell_type": "code",
      "metadata": {
        "id": "QXngp5rAJeQf",
        "colab_type": "code",
        "outputId": "318c42e5-1300-46fd-bf4b-92458f21ae04",
        "colab": {
          "base_uri": "https://localhost:8080/",
          "height": 243
        }
      },
      "source": [
        "X_wt_scaled"
      ],
      "execution_count": 0,
      "outputs": [
        {
          "output_type": "execute_result",
          "data": {
            "text/plain": [
              "array([[0.45507804, 0.16422949, 0.45507804, ..., 0.60696169, 0.01946686,\n",
              "        0.60696169],\n",
              "       [0.47422984, 0.13922344, 0.47422984, ..., 0.61231943, 0.0293241 ,\n",
              "        0.61231943],\n",
              "       [0.42906969, 0.04059922, 0.42906969, ..., 0.61734923, 0.22071207,\n",
              "        0.61734923],\n",
              "       ...,\n",
              "       [0.47593689, 0.05945733, 0.47593689, ..., 0.6150931 , 0.02120154,\n",
              "        0.6150931 ],\n",
              "       [0.41912799, 0.04276628, 0.41912799, ..., 0.62326178, 0.01982803,\n",
              "        0.62326178],\n",
              "       [0.41999002, 0.04875165, 0.41999002, ..., 0.60112664, 0.04327358,\n",
              "        0.60112664]])"
            ]
          },
          "metadata": {
            "tags": []
          },
          "execution_count": 31
        }
      ]
    },
    {
      "cell_type": "code",
      "metadata": {
        "id": "wMiEcg1AJ0b0",
        "colab_type": "code",
        "outputId": "86545a7c-1049-400c-96c4-5a4259269639",
        "colab": {
          "base_uri": "https://localhost:8080/",
          "height": 243
        }
      },
      "source": [
        "X_wt_scaled_2"
      ],
      "execution_count": 0,
      "outputs": [
        {
          "output_type": "execute_result",
          "data": {
            "text/plain": [
              "array([[0.45507804, 0.16422949, 0.45507804, ..., 0.60696169, 0.01946686,\n",
              "        0.60696169],\n",
              "       [0.47422984, 0.13922344, 0.47422984, ..., 0.61231943, 0.0293241 ,\n",
              "        0.61231943],\n",
              "       [0.42906969, 0.04059922, 0.42906969, ..., 0.61734923, 0.22071207,\n",
              "        0.61734923],\n",
              "       ...,\n",
              "       [0.47593689, 0.05945733, 0.47593689, ..., 0.6150931 , 0.02120154,\n",
              "        0.6150931 ],\n",
              "       [0.41912799, 0.04276628, 0.41912799, ..., 0.62326178, 0.01982803,\n",
              "        0.62326178],\n",
              "       [0.41999002, 0.04875165, 0.41999002, ..., 0.60112664, 0.04327358,\n",
              "        0.60112664]])"
            ]
          },
          "metadata": {
            "tags": []
          },
          "execution_count": 32
        }
      ]
    },
    {
      "cell_type": "code",
      "metadata": {
        "id": "kJiQdgZrJ1kB",
        "colab_type": "code",
        "colab": {}
      },
      "source": [
        ""
      ],
      "execution_count": 0,
      "outputs": []
    }
  ]
}